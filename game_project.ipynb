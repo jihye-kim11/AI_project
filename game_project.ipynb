{
  "nbformat": 4,
  "nbformat_minor": 0,
  "metadata": {
    "colab": {
      "name": "game_project.ipynb",
      "provenance": [],
      "collapsed_sections": [
        "eTaLj-xeFw3i"
      ],
      "authorship_tag": "ABX9TyOchRk0mhNs9srJq6n4IpFn",
      "include_colab_link": true
    },
    "kernelspec": {
      "name": "python3",
      "display_name": "Python 3"
    },
    "language_info": {
      "name": "python"
    }
  },
  "cells": [
    {
      "cell_type": "markdown",
      "metadata": {
        "id": "view-in-github",
        "colab_type": "text"
      },
      "source": [
        "<a href=\"https://colab.research.google.com/github/jihye-kim11/AI_project/blob/master/game_project.ipynb\" target=\"_parent\"><img src=\"https://colab.research.google.com/assets/colab-badge.svg\" alt=\"Open In Colab\"/></a>"
      ]
    },
    {
      "cell_type": "markdown",
      "metadata": {
        "id": "x9LZvqr4CfZE"
      },
      "source": [
        "앞서서 여러분에게 최대한의 자유를 드린다고 했지만, 그래도 발표에 반드시 포함되어야 하는 내용은 다음과 같습니다.\n",
        "\n",
        "1.지역에 따라서 선호하는 게임 장르가 다를까 라는 질문에 대답을 하셔야합니다.\n",
        "\n",
        "2.연도별 게임의 트렌드가 있을까 라는 질문에 대답을 하셔야합니다.\n",
        "\n",
        "3.매출이 높은 게임에 대한 분석 및 시각화 프로세스가 포함되어야 합니다.\n",
        "\n",
        "위 3가지 내용과 여러분들의 개인적인 분석 목표, 질문을 더하여 프로젝트를 완성하세요.\n",
        "\n",
        "```\n",
        "Section 1때 배운 내용들은 다음과 같습니다.\n",
        "\n",
        "Sprint 1 : EDA, Feature Engineering, Data Manipulation, Data Visualization\n",
        "Sprint 2 : Hypothesis Test, CI, Bayesian\n",
        "Sprint 3 : DR, PCA, Cluster\n",
        "```\n",
        "\n",
        "\n",
        "```\n",
        "Name : 게임의 이름입니다.\n",
        "Platform : 게임이 지원되는 플랫폼의 이름입니다.\n",
        "Year : 게임이 출시된 연도입니다.\n",
        "Genre : 게임의 장르입니다.\n",
        "Publisher : 게임을 제작한 회사입니다.\n",
        "NA_Sales : 북미 매출액입니다.\n",
        "EU_Sales : 유럽 매출액입니다.\n",
        "JP_Sales : 일본 매출액입니다.\n",
        "Other_Sales : 기타지역 매출액입니다.\n",
        "```\n",
        "\n"
      ]
    },
    {
      "cell_type": "code",
      "metadata": {
        "id": "59jYddj2DUDO"
      },
      "source": [
        "#지역에 따라 선호하는 게임 장르가 다를까: Genre,NA_Sales,EU_Sales,JP_Sales,Other_Sales \n",
        "#연도별 게임의 트렌드 있을까:Year, Genre\n",
        "#매출이 높은 게임에 대한 분석 및 시각화 프로세스"
      ],
      "execution_count": null,
      "outputs": []
    },
    {
      "cell_type": "markdown",
      "metadata": {
        "id": "E5AxN1FQdS2m"
      },
      "source": [
        "# **0.데이터 전처리**\n",
        "\n",
        "플랫폼/장르/년도/판매액 전처리 완료. 추가적으로 가정용/휴대용 구분하고, 회사 구분 "
      ]
    },
    {
      "cell_type": "code",
      "metadata": {
        "id": "GBJuOvBghO3G"
      },
      "source": [
        "\n",
        "import pandas as pd\n",
        "import numpy as np\n",
        "import matplotlib.pyplot as plt\n",
        "import seaborn as sns\n",
        "from matplotlib.animation import FuncAnimation"
      ],
      "execution_count": null,
      "outputs": []
    },
    {
      "cell_type": "code",
      "metadata": {
        "id": "KuOuY8MiCmlD"
      },
      "source": [
        "data1='https://ds-lecture-data.s3.ap-northeast-2.amazonaws.com/datasets/vgames2.csv'\n",
        "import pandas as pd\n",
        "df=pd.read_csv(data1)\n",
        "df=df.drop('Unnamed: 0',axis=1)"
      ],
      "execution_count": null,
      "outputs": []
    },
    {
      "cell_type": "code",
      "metadata": {
        "colab": {
          "base_uri": "https://localhost:8080/",
          "height": 470
        },
        "id": "s9hlbUJf6Uvz",
        "outputId": "0ec2a056-e513-40fb-8fdc-13c45e513a6f"
      },
      "source": [
        "df"
      ],
      "execution_count": null,
      "outputs": [
        {
          "output_type": "execute_result",
          "data": {
            "text/html": [
              "<div>\n",
              "<style scoped>\n",
              "    .dataframe tbody tr th:only-of-type {\n",
              "        vertical-align: middle;\n",
              "    }\n",
              "\n",
              "    .dataframe tbody tr th {\n",
              "        vertical-align: top;\n",
              "    }\n",
              "\n",
              "    .dataframe thead th {\n",
              "        text-align: right;\n",
              "    }\n",
              "</style>\n",
              "<table border=\"1\" class=\"dataframe\">\n",
              "  <thead>\n",
              "    <tr style=\"text-align: right;\">\n",
              "      <th></th>\n",
              "      <th>Name</th>\n",
              "      <th>Platform</th>\n",
              "      <th>Year</th>\n",
              "      <th>Genre</th>\n",
              "      <th>Publisher</th>\n",
              "      <th>NA_Sales</th>\n",
              "      <th>EU_Sales</th>\n",
              "      <th>JP_Sales</th>\n",
              "      <th>Other_Sales</th>\n",
              "    </tr>\n",
              "  </thead>\n",
              "  <tbody>\n",
              "    <tr>\n",
              "      <th>0</th>\n",
              "      <td>Candace Kane's Candy Factory</td>\n",
              "      <td>DS</td>\n",
              "      <td>2008.0</td>\n",
              "      <td>Action</td>\n",
              "      <td>Destineer</td>\n",
              "      <td>0.04</td>\n",
              "      <td>0</td>\n",
              "      <td>0</td>\n",
              "      <td>0</td>\n",
              "    </tr>\n",
              "    <tr>\n",
              "      <th>1</th>\n",
              "      <td>The Munchables</td>\n",
              "      <td>Wii</td>\n",
              "      <td>2009.0</td>\n",
              "      <td>Action</td>\n",
              "      <td>Namco Bandai Games</td>\n",
              "      <td>0.17</td>\n",
              "      <td>0</td>\n",
              "      <td>0</td>\n",
              "      <td>0.01</td>\n",
              "    </tr>\n",
              "    <tr>\n",
              "      <th>2</th>\n",
              "      <td>Otome wa Oanesama Boku ni Koi Shiteru Portable</td>\n",
              "      <td>PSP</td>\n",
              "      <td>2010.0</td>\n",
              "      <td>Adventure</td>\n",
              "      <td>Alchemist</td>\n",
              "      <td>0</td>\n",
              "      <td>0</td>\n",
              "      <td>0.02</td>\n",
              "      <td>0</td>\n",
              "    </tr>\n",
              "    <tr>\n",
              "      <th>3</th>\n",
              "      <td>Deal or No Deal: Special Edition</td>\n",
              "      <td>DS</td>\n",
              "      <td>2010.0</td>\n",
              "      <td>Misc</td>\n",
              "      <td>Zoo Games</td>\n",
              "      <td>0.04</td>\n",
              "      <td>0</td>\n",
              "      <td>0</td>\n",
              "      <td>0</td>\n",
              "    </tr>\n",
              "    <tr>\n",
              "      <th>4</th>\n",
              "      <td>Ben 10 Ultimate Alien: Cosmic Destruction</td>\n",
              "      <td>PS3</td>\n",
              "      <td>2010.0</td>\n",
              "      <td>Platform</td>\n",
              "      <td>D3Publisher</td>\n",
              "      <td>0.12</td>\n",
              "      <td>0.09</td>\n",
              "      <td>0</td>\n",
              "      <td>0.04</td>\n",
              "    </tr>\n",
              "    <tr>\n",
              "      <th>...</th>\n",
              "      <td>...</td>\n",
              "      <td>...</td>\n",
              "      <td>...</td>\n",
              "      <td>...</td>\n",
              "      <td>...</td>\n",
              "      <td>...</td>\n",
              "      <td>...</td>\n",
              "      <td>...</td>\n",
              "      <td>...</td>\n",
              "    </tr>\n",
              "    <tr>\n",
              "      <th>16593</th>\n",
              "      <td>Ice Age 2: The Meltdown</td>\n",
              "      <td>GC</td>\n",
              "      <td>2006.0</td>\n",
              "      <td>Platform</td>\n",
              "      <td>Vivendi Games</td>\n",
              "      <td>0.15</td>\n",
              "      <td>0.04</td>\n",
              "      <td>0</td>\n",
              "      <td>0.01</td>\n",
              "    </tr>\n",
              "    <tr>\n",
              "      <th>16594</th>\n",
              "      <td>Rainbow Islands: Revolution</td>\n",
              "      <td>PSP</td>\n",
              "      <td>2005.0</td>\n",
              "      <td>Action</td>\n",
              "      <td>Rising Star Games</td>\n",
              "      <td>0.01</td>\n",
              "      <td>0</td>\n",
              "      <td>0</td>\n",
              "      <td>0</td>\n",
              "    </tr>\n",
              "    <tr>\n",
              "      <th>16595</th>\n",
              "      <td>NBA 2K16</td>\n",
              "      <td>PS3</td>\n",
              "      <td>2015.0</td>\n",
              "      <td>Sports</td>\n",
              "      <td>Take-Two Interactive</td>\n",
              "      <td>0.44</td>\n",
              "      <td>0.19</td>\n",
              "      <td>0.03</td>\n",
              "      <td>0.13</td>\n",
              "    </tr>\n",
              "    <tr>\n",
              "      <th>16596</th>\n",
              "      <td>Toukiden: The Age of Demons</td>\n",
              "      <td>PSV</td>\n",
              "      <td>2013.0</td>\n",
              "      <td>Action</td>\n",
              "      <td>Tecmo Koei</td>\n",
              "      <td>0.05</td>\n",
              "      <td>0.05</td>\n",
              "      <td>0.25</td>\n",
              "      <td>0.03</td>\n",
              "    </tr>\n",
              "    <tr>\n",
              "      <th>16597</th>\n",
              "      <td>The King of Fighters '95</td>\n",
              "      <td>PS</td>\n",
              "      <td>1996.0</td>\n",
              "      <td>Fighting</td>\n",
              "      <td>Sony Computer Entertainment</td>\n",
              "      <td>0</td>\n",
              "      <td>0</td>\n",
              "      <td>0.16</td>\n",
              "      <td>0.01</td>\n",
              "    </tr>\n",
              "  </tbody>\n",
              "</table>\n",
              "<p>16598 rows × 9 columns</p>\n",
              "</div>"
            ],
            "text/plain": [
              "                                                 Name  ... Other_Sales\n",
              "0                        Candace Kane's Candy Factory  ...           0\n",
              "1                                      The Munchables  ...        0.01\n",
              "2      Otome wa Oanesama Boku ni Koi Shiteru Portable  ...           0\n",
              "3                    Deal or No Deal: Special Edition  ...           0\n",
              "4           Ben 10 Ultimate Alien: Cosmic Destruction  ...        0.04\n",
              "...                                               ...  ...         ...\n",
              "16593                         Ice Age 2: The Meltdown  ...        0.01\n",
              "16594                     Rainbow Islands: Revolution  ...           0\n",
              "16595                                        NBA 2K16  ...        0.13\n",
              "16596                     Toukiden: The Age of Demons  ...        0.03\n",
              "16597                        The King of Fighters '95  ...        0.01\n",
              "\n",
              "[16598 rows x 9 columns]"
            ]
          },
          "metadata": {
            "tags": []
          },
          "execution_count": 125
        }
      ]
    },
    {
      "cell_type": "code",
      "metadata": {
        "colab": {
          "base_uri": "https://localhost:8080/"
        },
        "id": "VOCoZir8ePn2",
        "outputId": "850faac7-53bd-4cd8-9614-ba6540c08fda"
      },
      "source": [
        "df.isnull().sum()"
      ],
      "execution_count": null,
      "outputs": [
        {
          "output_type": "execute_result",
          "data": {
            "text/plain": [
              "Name             0\n",
              "Platform         0\n",
              "Year           271\n",
              "Genre           50\n",
              "Publisher       58\n",
              "NA_Sales         0\n",
              "EU_Sales         0\n",
              "JP_Sales         0\n",
              "Other_Sales      0\n",
              "dtype: int64"
            ]
          },
          "metadata": {
            "tags": []
          },
          "execution_count": 126
        }
      ]
    },
    {
      "cell_type": "markdown",
      "metadata": {
        "id": "hMufadEsdpM6"
      },
      "source": [
        "데이터 계산을 위해 float으로 판매 값 수정('M'단위로 통일)"
      ]
    },
    {
      "cell_type": "code",
      "metadata": {
        "id": "QX6UpNj-CjtH"
      },
      "source": [
        "def tofloat(str):#K는 *1000 M은 * 1000000이므로 M을 기준으로 k는 /1000해준다.\n",
        "  if 'K' in str:\n",
        "    str=float(str.replace('K',''))\n",
        "    str/=1000\n",
        "  elif 'M' in str:\n",
        "    str=str.replace('M','')\n",
        "  return float(str)\n",
        "\n",
        "df['NA_Sales']= df['NA_Sales'].apply(tofloat)\n",
        "df['EU_Sales']= df['EU_Sales'].apply(tofloat)\n",
        "df['JP_Sales']= df['JP_Sales'].apply(tofloat)\n",
        "df['Other_Sales']= df['Other_Sales'].apply(tofloat)\n"
      ],
      "execution_count": null,
      "outputs": []
    },
    {
      "cell_type": "markdown",
      "metadata": {
        "id": "gxh7EdQifjmg"
      },
      "source": [
        "Year값을 전처리해준다.(97->1997,15->2015와 같이)"
      ]
    },
    {
      "cell_type": "code",
      "metadata": {
        "id": "1BAynXGLftv6"
      },
      "source": [
        "def toyear(data):\n",
        "  if data<50:\n",
        "    data+=2000\n",
        "  elif data<100:\n",
        "    data+=1900\n",
        "  return data\n",
        "df['Year']=df['Year'].apply(toyear)"
      ],
      "execution_count": null,
      "outputs": []
    },
    {
      "cell_type": "code",
      "metadata": {
        "id": "QvD3GR-qUHF_"
      },
      "source": [
        "df.sort_values(by=['Name'], axis=0, inplace=True)\n",
        "df=df.reset_index(drop=True)"
      ],
      "execution_count": null,
      "outputs": []
    },
    {
      "cell_type": "code",
      "metadata": {
        "colab": {
          "base_uri": "https://localhost:8080/"
        },
        "id": "RfLoXRm6cr9e",
        "outputId": "64d0008d-adb5-4533-e312-da943c795f10"
      },
      "source": [
        "for i in range(len(df)-1):\n",
        "  if df['Name'][i]==df['Name'][i+1] and df['Platform'][i]==df['Platform'][i+1] and df['Genre'][i]==df['Genre'][i+1] and df['Publisher'][i]==df['Publisher'][i+1]:\n",
        "     print(df[i:i+2])"
      ],
      "execution_count": null,
      "outputs": [
        {
          "output_type": "stream",
          "text": [
            "                             Name Platform  ...  JP_Sales Other_Sales\n",
            "9621  Need for Speed: Most Wanted       PC  ...       0.0        0.02\n",
            "9622  Need for Speed: Most Wanted       PC  ...       0.0        0.05\n",
            "\n",
            "[2 rows x 9 columns]\n",
            "                              Name Platform  ...  JP_Sales Other_Sales\n",
            "15939  Wii de Asobu: Metroid Prime      Wii  ...      0.02         0.0\n",
            "15940  Wii de Asobu: Metroid Prime      Wii  ...      0.02         0.0\n",
            "\n",
            "[2 rows x 9 columns]\n"
          ],
          "name": "stdout"
        }
      ]
    },
    {
      "cell_type": "code",
      "metadata": {
        "id": "c8trt3Ute9jJ"
      },
      "source": [
        "df=df.drop(15940,axis=0)\n",
        "df=df.drop(9621,axis=0)"
      ],
      "execution_count": null,
      "outputs": []
    },
    {
      "cell_type": "code",
      "metadata": {
        "colab": {
          "base_uri": "https://localhost:8080/"
        },
        "id": "61FoF8FufJ9v",
        "outputId": "203e48cf-74a3-4866-de94-be3e5fe2a132"
      },
      "source": [
        "len(df)"
      ],
      "execution_count": null,
      "outputs": [
        {
          "output_type": "execute_result",
          "data": {
            "text/plain": [
              "16596"
            ]
          },
          "metadata": {
            "tags": []
          },
          "execution_count": 134
        }
      ]
    },
    {
      "cell_type": "code",
      "metadata": {
        "colab": {
          "base_uri": "https://localhost:8080/",
          "height": 487
        },
        "id": "oOI7YpcjZRat",
        "outputId": "dd1f4411-23f8-40e2-d963-8e84fd1a32e6"
      },
      "source": [
        "df"
      ],
      "execution_count": null,
      "outputs": [
        {
          "output_type": "execute_result",
          "data": {
            "text/html": [
              "<div>\n",
              "<style scoped>\n",
              "    .dataframe tbody tr th:only-of-type {\n",
              "        vertical-align: middle;\n",
              "    }\n",
              "\n",
              "    .dataframe tbody tr th {\n",
              "        vertical-align: top;\n",
              "    }\n",
              "\n",
              "    .dataframe thead th {\n",
              "        text-align: right;\n",
              "    }\n",
              "</style>\n",
              "<table border=\"1\" class=\"dataframe\">\n",
              "  <thead>\n",
              "    <tr style=\"text-align: right;\">\n",
              "      <th></th>\n",
              "      <th>Name</th>\n",
              "      <th>Platform</th>\n",
              "      <th>Year</th>\n",
              "      <th>Genre</th>\n",
              "      <th>Publisher</th>\n",
              "      <th>NA_Sales</th>\n",
              "      <th>EU_Sales</th>\n",
              "      <th>JP_Sales</th>\n",
              "      <th>Other_Sales</th>\n",
              "    </tr>\n",
              "  </thead>\n",
              "  <tbody>\n",
              "    <tr>\n",
              "      <th>0</th>\n",
              "      <td>'98 Koshien</td>\n",
              "      <td>PS</td>\n",
              "      <td>1998.0</td>\n",
              "      <td>Sports</td>\n",
              "      <td>Magical Company</td>\n",
              "      <td>0.15</td>\n",
              "      <td>0.10</td>\n",
              "      <td>0.12</td>\n",
              "      <td>0.03</td>\n",
              "    </tr>\n",
              "    <tr>\n",
              "      <th>1</th>\n",
              "      <td>.hack//G.U. Vol.1//Rebirth</td>\n",
              "      <td>PS2</td>\n",
              "      <td>2006.0</td>\n",
              "      <td>Role-Playing</td>\n",
              "      <td>Namco Bandai Games</td>\n",
              "      <td>0.00</td>\n",
              "      <td>0.00</td>\n",
              "      <td>0.17</td>\n",
              "      <td>0.00</td>\n",
              "    </tr>\n",
              "    <tr>\n",
              "      <th>2</th>\n",
              "      <td>.hack//G.U. Vol.2//Reminisce</td>\n",
              "      <td>PS2</td>\n",
              "      <td>2006.0</td>\n",
              "      <td>Role-Playing</td>\n",
              "      <td>Namco Bandai Games</td>\n",
              "      <td>0.11</td>\n",
              "      <td>0.09</td>\n",
              "      <td>0.00</td>\n",
              "      <td>0.03</td>\n",
              "    </tr>\n",
              "    <tr>\n",
              "      <th>3</th>\n",
              "      <td>.hack//G.U. Vol.2//Reminisce (jp sales)</td>\n",
              "      <td>PS2</td>\n",
              "      <td>2006.0</td>\n",
              "      <td>Role-Playing</td>\n",
              "      <td>Namco Bandai Games</td>\n",
              "      <td>0.00</td>\n",
              "      <td>0.00</td>\n",
              "      <td>0.16</td>\n",
              "      <td>0.00</td>\n",
              "    </tr>\n",
              "    <tr>\n",
              "      <th>4</th>\n",
              "      <td>.hack//G.U. Vol.3//Redemption</td>\n",
              "      <td>PS2</td>\n",
              "      <td>2007.0</td>\n",
              "      <td>Role-Playing</td>\n",
              "      <td>Namco Bandai Games</td>\n",
              "      <td>0.00</td>\n",
              "      <td>0.00</td>\n",
              "      <td>0.17</td>\n",
              "      <td>0.00</td>\n",
              "    </tr>\n",
              "    <tr>\n",
              "      <th>...</th>\n",
              "      <td>...</td>\n",
              "      <td>...</td>\n",
              "      <td>...</td>\n",
              "      <td>...</td>\n",
              "      <td>...</td>\n",
              "      <td>...</td>\n",
              "      <td>...</td>\n",
              "      <td>...</td>\n",
              "      <td>...</td>\n",
              "    </tr>\n",
              "    <tr>\n",
              "      <th>16593</th>\n",
              "      <td>uDraw Studio</td>\n",
              "      <td>Wii</td>\n",
              "      <td>2010.0</td>\n",
              "      <td>Misc</td>\n",
              "      <td>THQ</td>\n",
              "      <td>1.67</td>\n",
              "      <td>0.58</td>\n",
              "      <td>0.00</td>\n",
              "      <td>0.20</td>\n",
              "    </tr>\n",
              "    <tr>\n",
              "      <th>16594</th>\n",
              "      <td>uDraw Studio: Instant Artist</td>\n",
              "      <td>X360</td>\n",
              "      <td>2011.0</td>\n",
              "      <td>Misc</td>\n",
              "      <td>THQ</td>\n",
              "      <td>0.01</td>\n",
              "      <td>0.01</td>\n",
              "      <td>0.00</td>\n",
              "      <td>0.00</td>\n",
              "    </tr>\n",
              "    <tr>\n",
              "      <th>16595</th>\n",
              "      <td>uDraw Studio: Instant Artist</td>\n",
              "      <td>Wii</td>\n",
              "      <td>2011.0</td>\n",
              "      <td>Misc</td>\n",
              "      <td>THQ</td>\n",
              "      <td>0.08</td>\n",
              "      <td>0.09</td>\n",
              "      <td>0.00</td>\n",
              "      <td>0.02</td>\n",
              "    </tr>\n",
              "    <tr>\n",
              "      <th>16596</th>\n",
              "      <td>wwe Smackdown vs. Raw 2006</td>\n",
              "      <td>PS2</td>\n",
              "      <td>NaN</td>\n",
              "      <td>Fighting</td>\n",
              "      <td>NaN</td>\n",
              "      <td>1.57</td>\n",
              "      <td>1.02</td>\n",
              "      <td>0.00</td>\n",
              "      <td>0.41</td>\n",
              "    </tr>\n",
              "    <tr>\n",
              "      <th>16597</th>\n",
              "      <td>¡Shin Chan Flipa en colores!</td>\n",
              "      <td>DS</td>\n",
              "      <td>2007.0</td>\n",
              "      <td>Platform</td>\n",
              "      <td>505 Games</td>\n",
              "      <td>0.00</td>\n",
              "      <td>0.00</td>\n",
              "      <td>0.14</td>\n",
              "      <td>0.00</td>\n",
              "    </tr>\n",
              "  </tbody>\n",
              "</table>\n",
              "<p>16596 rows × 9 columns</p>\n",
              "</div>"
            ],
            "text/plain": [
              "                                          Name Platform  ...  JP_Sales Other_Sales\n",
              "0                                  '98 Koshien       PS  ...      0.12        0.03\n",
              "1                   .hack//G.U. Vol.1//Rebirth      PS2  ...      0.17        0.00\n",
              "2                 .hack//G.U. Vol.2//Reminisce      PS2  ...      0.00        0.03\n",
              "3      .hack//G.U. Vol.2//Reminisce (jp sales)      PS2  ...      0.16        0.00\n",
              "4                .hack//G.U. Vol.3//Redemption      PS2  ...      0.17        0.00\n",
              "...                                        ...      ...  ...       ...         ...\n",
              "16593                             uDraw Studio      Wii  ...      0.00        0.20\n",
              "16594             uDraw Studio: Instant Artist     X360  ...      0.00        0.00\n",
              "16595             uDraw Studio: Instant Artist      Wii  ...      0.00        0.02\n",
              "16596               wwe Smackdown vs. Raw 2006      PS2  ...      0.00        0.41\n",
              "16597             ¡Shin Chan Flipa en colores!       DS  ...      0.14        0.00\n",
              "\n",
              "[16596 rows x 9 columns]"
            ]
          },
          "metadata": {
            "tags": []
          },
          "execution_count": 135
        }
      ]
    },
    {
      "cell_type": "code",
      "metadata": {
        "id": "avVqrH3o8e1o"
      },
      "source": [
        "df['t_Sales'] = df['NA_Sales'] + df['EU_Sales'] + df['JP_Sales'] + df['Other_Sales']"
      ],
      "execution_count": null,
      "outputs": []
    },
    {
      "cell_type": "markdown",
      "metadata": {
        "id": "UQKHDPhb6GdN"
      },
      "source": [
        "지역에 따라 선호하는 게임 장르와 플랫폼"
      ]
    },
    {
      "cell_type": "code",
      "metadata": {
        "colab": {
          "base_uri": "https://localhost:8080/"
        },
        "id": "Hu57fyRBebkC",
        "outputId": "59a2abd8-6461-4d1d-bebd-974ff80702c7"
      },
      "source": [
        "print(\"게임 장르: \",len(df['Genre'].unique()))\n",
        "print(df['Genre'].unique())\n",
        "print(\"게임 플랫폼: \",len(df['Platform'].unique()))\n",
        "print(df['Platform'].unique(),len(df['Platform'].unique()))"
      ],
      "execution_count": null,
      "outputs": [
        {
          "output_type": "stream",
          "text": [
            "게임 장르:  13\n",
            "['Action' 'Adventure' 'Misc' 'Platform' 'Sports' 'Simulation' 'Racing'\n",
            " 'Role-Playing' 'Puzzle' 'Strategy' 'Fighting' 'Shooter' nan]\n",
            "게임 플랫폼:  31\n",
            "['DS' 'Wii' 'PSP' 'PS3' 'PC' 'PS' 'GBA' 'PS4' 'PS2' 'XB' 'X360' 'GC' '3DS'\n",
            " '2600' 'SAT' 'GB' 'NES' 'DC' 'N64' 'XOne' 'SNES' 'WiiU' 'PSV' 'GEN' 'SCD'\n",
            " 'WS' 'NG' 'TG16' '3DO' 'GG' 'PCFX'] 31\n"
          ],
          "name": "stdout"
        }
      ]
    },
    {
      "cell_type": "markdown",
      "metadata": {
        "id": "R-49-M0We5yX"
      },
      "source": [
        "게임의 장르는 12개가 존재한다.\n",
        "\n",
        "게임의 플랫폼은 31개가 존재한다. "
      ]
    },
    {
      "cell_type": "markdown",
      "metadata": {
        "id": "-jH2CJ5BTMnE"
      },
      "source": [
        "\n",
        "\n",
        "```\n",
        "Nintendo\n",
        "NES:닌텐도 패미컴 1983년 가정용\n",
        "SNES:닌텐도 슈퍼 패미컴 1990년 가정용\n",
        "GB: 닌텐도 게임보이 1990년 휴대용\n",
        "N64:닌텐도 64 1996년 가정용\n",
        "GBA:닌텐도 게임보이 시리즈 후속 2001년 휴대용\n",
        "GC: 닌텐도 게임큐브 2001년 가정용\n",
        "DS:닌텐도 DS 2004년 휴대용\n",
        "3DS:닌텐도 3DS 2011년 휴대용\n",
        "Wii:닌텐도 Wii 2006년 가정용\n",
        "WiiU:닌텐도 WiiU 2012년가정용\n",
        "\n",
        "Sony(Playstation)\n",
        "PSP:플레이스테이션 포터블 2004년 휴대용\n",
        "PSV:플레이스테이션 Vita 2011년 휴대용\n",
        "PS:플레이스테이션 1994년\n",
        "PS2:플레이스테이션2 2000년\n",
        "PS3:플레이스테이션3 2006년\n",
        "PS4:플레이스테이션4\n",
        "\n",
        "SEGA\n",
        "GEN: SEGA Genesis 1989년 가정용\n",
        "SCD: 세가 메가 CD 1991년 가정용\n",
        "SAT: 세가 새턴 1994년 가정용\n",
        "DC:세가 드림캐스트 1998년 가정용\n",
        "GC: 세가 게임 기어 1994년 가정용\n",
        "\n",
        "마이크로소프트(Xbox)\n",
        "XB: 엑스박스 2001년 가정용\n",
        "X360: 엑스박스 360 2005년 가정용\n",
        "XOne:엑스박스 원 2013년\n",
        "\n",
        "3DO 컴퍼니\n",
        "3DO: 3DO 인터랙티브 멀티플레이어 1993년 가정용\n",
        "\n",
        "NEC\n",
        "TG16: turgobrafx-16 1987년 가정용\n",
        "PCFX: PC-FX 1994년 가정용\n",
        "\n",
        "Bandai\n",
        "WG:원더스완 1999년 휴대용\n",
        "\n",
        "Atari\n",
        "2600:아타리 1977년 가정용\n",
        "\n",
        "SNK\n",
        "NG:네오 지오 1990년 가정용(대형 아케이드)\n",
        "\n",
        "PC:컴퓨터\n",
        "```\n",
        "\n",
        "\n",
        "\n",
        "\n"
      ]
    },
    {
      "cell_type": "markdown",
      "metadata": {
        "id": "gdoblQWScn4X"
      },
      "source": [
        "플랫폼은 다음과 같이 가정용,휴대용으로 구분되고 각 회사별로 구분된다. 이를 구분하기 위해 새로운 변수를 추가한다."
      ]
    },
    {
      "cell_type": "code",
      "metadata": {
        "id": "aLU_WhkaczZT"
      },
      "source": [
        "use = {'GB':'portable', 'GBA':'portable', 'DS':'portable', '3DS':'portable', 'PSP':'portable', 'PSV':'portable',\n",
        "                 'WS':'portable', 'GG':'portable', 'NES':'family', 'SNES':'family', 'N64':'family', 'GC':'family',\n",
        "                 'Wii':'family','WiiU':'family','PS':'family','PS2':'family','PS3':'family','PS4':'family','2600':'family',\n",
        "                 'XB':'family','X360':'family','XOne':'family','GEN':'family','SCD':'family','SAT':'family',\n",
        "                 'DC':'family', 'NG':'family', 'TG16':'family', 'PCFX':'family', '3DO':'family', 'PC':'family'}"
      ],
      "execution_count": null,
      "outputs": []
    },
    {
      "cell_type": "code",
      "metadata": {
        "id": "tlIRw8ea6860"
      },
      "source": [
        "company = {'NES':'Nintendo', 'SNES':'Nintendo', 'GB':'Nintendo', 'N64':'Nintendo', 'GBA':'Nintendo', 'GC':'Nintendo',\n",
        "                'DS':'Nintendo', '3DS':'Nintendo', 'Wii':'Nintendo', 'WiiU':'Nintendo',\n",
        "                'PSP':'Sony', 'PSV':'Sony', 'PS':'Sony', 'PS2':'Sony', 'PS3':'Sony','PS4':'Sony',\n",
        "                'XB':'Microsoft', 'X360':'Microsoft', 'XOne':'Microsoft',\n",
        "                '2600':'Atari', 'GEN':'Sega', 'SCD':'Sega','SAT':'Sega','DC':'Sega','GG':'Sega',\n",
        "                'WS':'Bandai','NG':'SNK','TG16':'Nec', 'PCFX':'Nec', '3DO':'3DO', 'PC':'PC'\n",
        "                }"
      ],
      "execution_count": null,
      "outputs": []
    },
    {
      "cell_type": "code",
      "metadata": {
        "colab": {
          "base_uri": "https://localhost:8080/",
          "height": 864
        },
        "id": "5K6mYjGR7BVT",
        "outputId": "0485ced6-486a-44ae-ef1a-e248b64c0357"
      },
      "source": [
        "#df['Use']=df['Platform'].map(use)\n",
        "df['P_Company']=df['Platform'].map(company)\n",
        "df"
      ],
      "execution_count": null,
      "outputs": [
        {
          "output_type": "execute_result",
          "data": {
            "text/html": [
              "<div>\n",
              "<style scoped>\n",
              "    .dataframe tbody tr th:only-of-type {\n",
              "        vertical-align: middle;\n",
              "    }\n",
              "\n",
              "    .dataframe tbody tr th {\n",
              "        vertical-align: top;\n",
              "    }\n",
              "\n",
              "    .dataframe thead th {\n",
              "        text-align: right;\n",
              "    }\n",
              "</style>\n",
              "<table border=\"1\" class=\"dataframe\">\n",
              "  <thead>\n",
              "    <tr style=\"text-align: right;\">\n",
              "      <th></th>\n",
              "      <th>Name</th>\n",
              "      <th>Platform</th>\n",
              "      <th>Year</th>\n",
              "      <th>Genre</th>\n",
              "      <th>Publisher</th>\n",
              "      <th>NA_Sales</th>\n",
              "      <th>EU_Sales</th>\n",
              "      <th>JP_Sales</th>\n",
              "      <th>Other_Sales</th>\n",
              "      <th>t_Sales</th>\n",
              "      <th>P_Company</th>\n",
              "    </tr>\n",
              "  </thead>\n",
              "  <tbody>\n",
              "    <tr>\n",
              "      <th>0</th>\n",
              "      <td>Candace Kane's Candy Factory</td>\n",
              "      <td>DS</td>\n",
              "      <td>2008.0</td>\n",
              "      <td>Action</td>\n",
              "      <td>Destineer</td>\n",
              "      <td>0.04</td>\n",
              "      <td>0.00</td>\n",
              "      <td>0.00</td>\n",
              "      <td>0.00</td>\n",
              "      <td>0.04</td>\n",
              "      <td>Nintendo</td>\n",
              "    </tr>\n",
              "    <tr>\n",
              "      <th>1</th>\n",
              "      <td>The Munchables</td>\n",
              "      <td>Wii</td>\n",
              "      <td>2009.0</td>\n",
              "      <td>Action</td>\n",
              "      <td>Namco Bandai Games</td>\n",
              "      <td>0.17</td>\n",
              "      <td>0.00</td>\n",
              "      <td>0.00</td>\n",
              "      <td>0.01</td>\n",
              "      <td>0.18</td>\n",
              "      <td>Nintendo</td>\n",
              "    </tr>\n",
              "    <tr>\n",
              "      <th>2</th>\n",
              "      <td>Otome wa Oanesama Boku ni Koi Shiteru Portable</td>\n",
              "      <td>PSP</td>\n",
              "      <td>2010.0</td>\n",
              "      <td>Adventure</td>\n",
              "      <td>Alchemist</td>\n",
              "      <td>0.00</td>\n",
              "      <td>0.00</td>\n",
              "      <td>0.02</td>\n",
              "      <td>0.00</td>\n",
              "      <td>0.02</td>\n",
              "      <td>Sony</td>\n",
              "    </tr>\n",
              "    <tr>\n",
              "      <th>3</th>\n",
              "      <td>Deal or No Deal: Special Edition</td>\n",
              "      <td>DS</td>\n",
              "      <td>2010.0</td>\n",
              "      <td>Misc</td>\n",
              "      <td>Zoo Games</td>\n",
              "      <td>0.04</td>\n",
              "      <td>0.00</td>\n",
              "      <td>0.00</td>\n",
              "      <td>0.00</td>\n",
              "      <td>0.04</td>\n",
              "      <td>Nintendo</td>\n",
              "    </tr>\n",
              "    <tr>\n",
              "      <th>4</th>\n",
              "      <td>Ben 10 Ultimate Alien: Cosmic Destruction</td>\n",
              "      <td>PS3</td>\n",
              "      <td>2010.0</td>\n",
              "      <td>Platform</td>\n",
              "      <td>D3Publisher</td>\n",
              "      <td>0.12</td>\n",
              "      <td>0.09</td>\n",
              "      <td>0.00</td>\n",
              "      <td>0.04</td>\n",
              "      <td>0.25</td>\n",
              "      <td>Sony</td>\n",
              "    </tr>\n",
              "    <tr>\n",
              "      <th>...</th>\n",
              "      <td>...</td>\n",
              "      <td>...</td>\n",
              "      <td>...</td>\n",
              "      <td>...</td>\n",
              "      <td>...</td>\n",
              "      <td>...</td>\n",
              "      <td>...</td>\n",
              "      <td>...</td>\n",
              "      <td>...</td>\n",
              "      <td>...</td>\n",
              "      <td>...</td>\n",
              "    </tr>\n",
              "    <tr>\n",
              "      <th>16593</th>\n",
              "      <td>Ice Age 2: The Meltdown</td>\n",
              "      <td>GC</td>\n",
              "      <td>2006.0</td>\n",
              "      <td>Platform</td>\n",
              "      <td>Vivendi Games</td>\n",
              "      <td>0.15</td>\n",
              "      <td>0.04</td>\n",
              "      <td>0.00</td>\n",
              "      <td>0.01</td>\n",
              "      <td>0.20</td>\n",
              "      <td>Nintendo</td>\n",
              "    </tr>\n",
              "    <tr>\n",
              "      <th>16594</th>\n",
              "      <td>Rainbow Islands: Revolution</td>\n",
              "      <td>PSP</td>\n",
              "      <td>2005.0</td>\n",
              "      <td>Action</td>\n",
              "      <td>Rising Star Games</td>\n",
              "      <td>0.01</td>\n",
              "      <td>0.00</td>\n",
              "      <td>0.00</td>\n",
              "      <td>0.00</td>\n",
              "      <td>0.01</td>\n",
              "      <td>Sony</td>\n",
              "    </tr>\n",
              "    <tr>\n",
              "      <th>16595</th>\n",
              "      <td>NBA 2K16</td>\n",
              "      <td>PS3</td>\n",
              "      <td>2015.0</td>\n",
              "      <td>Sports</td>\n",
              "      <td>Take-Two Interactive</td>\n",
              "      <td>0.44</td>\n",
              "      <td>0.19</td>\n",
              "      <td>0.03</td>\n",
              "      <td>0.13</td>\n",
              "      <td>0.79</td>\n",
              "      <td>Sony</td>\n",
              "    </tr>\n",
              "    <tr>\n",
              "      <th>16596</th>\n",
              "      <td>Toukiden: The Age of Demons</td>\n",
              "      <td>PSV</td>\n",
              "      <td>2013.0</td>\n",
              "      <td>Action</td>\n",
              "      <td>Tecmo Koei</td>\n",
              "      <td>0.05</td>\n",
              "      <td>0.05</td>\n",
              "      <td>0.25</td>\n",
              "      <td>0.03</td>\n",
              "      <td>0.38</td>\n",
              "      <td>Sony</td>\n",
              "    </tr>\n",
              "    <tr>\n",
              "      <th>16597</th>\n",
              "      <td>The King of Fighters '95</td>\n",
              "      <td>PS</td>\n",
              "      <td>1996.0</td>\n",
              "      <td>Fighting</td>\n",
              "      <td>Sony Computer Entertainment</td>\n",
              "      <td>0.00</td>\n",
              "      <td>0.00</td>\n",
              "      <td>0.16</td>\n",
              "      <td>0.01</td>\n",
              "      <td>0.17</td>\n",
              "      <td>Sony</td>\n",
              "    </tr>\n",
              "  </tbody>\n",
              "</table>\n",
              "<p>16598 rows × 11 columns</p>\n",
              "</div>"
            ],
            "text/plain": [
              "                                                 Name  ... P_Company\n",
              "0                        Candace Kane's Candy Factory  ...  Nintendo\n",
              "1                                      The Munchables  ...  Nintendo\n",
              "2      Otome wa Oanesama Boku ni Koi Shiteru Portable  ...      Sony\n",
              "3                    Deal or No Deal: Special Edition  ...  Nintendo\n",
              "4           Ben 10 Ultimate Alien: Cosmic Destruction  ...      Sony\n",
              "...                                               ...  ...       ...\n",
              "16593                         Ice Age 2: The Meltdown  ...  Nintendo\n",
              "16594                     Rainbow Islands: Revolution  ...      Sony\n",
              "16595                                        NBA 2K16  ...      Sony\n",
              "16596                     Toukiden: The Age of Demons  ...      Sony\n",
              "16597                        The King of Fighters '95  ...      Sony\n",
              "\n",
              "[16598 rows x 11 columns]"
            ]
          },
          "metadata": {
            "tags": []
          },
          "execution_count": 25
        }
      ]
    },
    {
      "cell_type": "markdown",
      "metadata": {
        "id": "Gx1KlrNUgk6D"
      },
      "source": [
        "#**1.지역에 따라 선호하는 게임 장르**"
      ]
    },
    {
      "cell_type": "markdown",
      "metadata": {
        "id": "VgJOoHvng3-p"
      },
      "source": [
        "## **1-1.장르별 총 판매량(지역별)**"
      ]
    },
    {
      "cell_type": "code",
      "metadata": {
        "colab": {
          "base_uri": "https://localhost:8080/",
          "height": 477
        },
        "id": "010c8HAR-4yj",
        "outputId": "11f18618-291c-40d5-ff64-08367fd29a50"
      },
      "source": [
        "genre_sum=df.groupby(['Genre'])['Genre','NA_Sales','EU_Sales','JP_Sales','Other_Sales','t_Sales'].sum()\n",
        "genre_sum.reset_index(inplace=True)\n",
        "genre_sum"
      ],
      "execution_count": null,
      "outputs": [
        {
          "output_type": "stream",
          "text": [
            "/usr/local/lib/python3.7/dist-packages/ipykernel_launcher.py:1: FutureWarning: Indexing with multiple keys (implicitly converted to a tuple of keys) will be deprecated, use a list instead.\n",
            "  \"\"\"Entry point for launching an IPython kernel.\n"
          ],
          "name": "stderr"
        },
        {
          "output_type": "execute_result",
          "data": {
            "text/html": [
              "<div>\n",
              "<style scoped>\n",
              "    .dataframe tbody tr th:only-of-type {\n",
              "        vertical-align: middle;\n",
              "    }\n",
              "\n",
              "    .dataframe tbody tr th {\n",
              "        vertical-align: top;\n",
              "    }\n",
              "\n",
              "    .dataframe thead th {\n",
              "        text-align: right;\n",
              "    }\n",
              "</style>\n",
              "<table border=\"1\" class=\"dataframe\">\n",
              "  <thead>\n",
              "    <tr style=\"text-align: right;\">\n",
              "      <th></th>\n",
              "      <th>Genre</th>\n",
              "      <th>NA_Sales</th>\n",
              "      <th>EU_Sales</th>\n",
              "      <th>JP_Sales</th>\n",
              "      <th>Other_Sales</th>\n",
              "      <th>t_Sales</th>\n",
              "    </tr>\n",
              "  </thead>\n",
              "  <tbody>\n",
              "    <tr>\n",
              "      <th>0</th>\n",
              "      <td>Action</td>\n",
              "      <td>874.81</td>\n",
              "      <td>522.16</td>\n",
              "      <td>157.90</td>\n",
              "      <td>186.45</td>\n",
              "      <td>1741.32</td>\n",
              "    </tr>\n",
              "    <tr>\n",
              "      <th>1</th>\n",
              "      <td>Adventure</td>\n",
              "      <td>105.66</td>\n",
              "      <td>64.05</td>\n",
              "      <td>51.95</td>\n",
              "      <td>16.81</td>\n",
              "      <td>238.47</td>\n",
              "    </tr>\n",
              "    <tr>\n",
              "      <th>2</th>\n",
              "      <td>Fighting</td>\n",
              "      <td>223.20</td>\n",
              "      <td>101.22</td>\n",
              "      <td>87.34</td>\n",
              "      <td>36.64</td>\n",
              "      <td>448.40</td>\n",
              "    </tr>\n",
              "    <tr>\n",
              "      <th>3</th>\n",
              "      <td>Misc</td>\n",
              "      <td>408.05</td>\n",
              "      <td>212.36</td>\n",
              "      <td>105.27</td>\n",
              "      <td>74.04</td>\n",
              "      <td>799.72</td>\n",
              "    </tr>\n",
              "    <tr>\n",
              "      <th>4</th>\n",
              "      <td>Platform</td>\n",
              "      <td>446.44</td>\n",
              "      <td>201.61</td>\n",
              "      <td>130.65</td>\n",
              "      <td>51.53</td>\n",
              "      <td>830.23</td>\n",
              "    </tr>\n",
              "    <tr>\n",
              "      <th>5</th>\n",
              "      <td>Puzzle</td>\n",
              "      <td>123.35</td>\n",
              "      <td>50.73</td>\n",
              "      <td>56.87</td>\n",
              "      <td>12.52</td>\n",
              "      <td>243.47</td>\n",
              "    </tr>\n",
              "    <tr>\n",
              "      <th>6</th>\n",
              "      <td>Racing</td>\n",
              "      <td>357.19</td>\n",
              "      <td>237.10</td>\n",
              "      <td>56.40</td>\n",
              "      <td>77.10</td>\n",
              "      <td>727.79</td>\n",
              "    </tr>\n",
              "    <tr>\n",
              "      <th>7</th>\n",
              "      <td>Role-Playing</td>\n",
              "      <td>319.54</td>\n",
              "      <td>183.58</td>\n",
              "      <td>344.95</td>\n",
              "      <td>56.96</td>\n",
              "      <td>905.03</td>\n",
              "    </tr>\n",
              "    <tr>\n",
              "      <th>8</th>\n",
              "      <td>Shooter</td>\n",
              "      <td>581.92</td>\n",
              "      <td>313.05</td>\n",
              "      <td>38.28</td>\n",
              "      <td>102.65</td>\n",
              "      <td>1035.90</td>\n",
              "    </tr>\n",
              "    <tr>\n",
              "      <th>9</th>\n",
              "      <td>Simulation</td>\n",
              "      <td>182.96</td>\n",
              "      <td>113.35</td>\n",
              "      <td>63.70</td>\n",
              "      <td>31.48</td>\n",
              "      <td>391.49</td>\n",
              "    </tr>\n",
              "    <tr>\n",
              "      <th>10</th>\n",
              "      <td>Sports</td>\n",
              "      <td>680.52</td>\n",
              "      <td>376.48</td>\n",
              "      <td>135.37</td>\n",
              "      <td>134.67</td>\n",
              "      <td>1327.04</td>\n",
              "    </tr>\n",
              "    <tr>\n",
              "      <th>11</th>\n",
              "      <td>Strategy</td>\n",
              "      <td>68.70</td>\n",
              "      <td>45.32</td>\n",
              "      <td>49.46</td>\n",
              "      <td>11.36</td>\n",
              "      <td>174.84</td>\n",
              "    </tr>\n",
              "  </tbody>\n",
              "</table>\n",
              "</div>"
            ],
            "text/plain": [
              "           Genre  NA_Sales  EU_Sales  JP_Sales  Other_Sales  t_Sales\n",
              "0         Action    874.81    522.16    157.90       186.45  1741.32\n",
              "1      Adventure    105.66     64.05     51.95        16.81   238.47\n",
              "2       Fighting    223.20    101.22     87.34        36.64   448.40\n",
              "3           Misc    408.05    212.36    105.27        74.04   799.72\n",
              "4       Platform    446.44    201.61    130.65        51.53   830.23\n",
              "5         Puzzle    123.35     50.73     56.87        12.52   243.47\n",
              "6         Racing    357.19    237.10     56.40        77.10   727.79\n",
              "7   Role-Playing    319.54    183.58    344.95        56.96   905.03\n",
              "8        Shooter    581.92    313.05     38.28       102.65  1035.90\n",
              "9     Simulation    182.96    113.35     63.70        31.48   391.49\n",
              "10        Sports    680.52    376.48    135.37       134.67  1327.04\n",
              "11      Strategy     68.70     45.32     49.46        11.36   174.84"
            ]
          },
          "metadata": {
            "tags": []
          },
          "execution_count": 26
        }
      ]
    },
    {
      "cell_type": "code",
      "metadata": {
        "colab": {
          "base_uri": "https://localhost:8080/",
          "height": 204
        },
        "id": "07go_rH1B-qk",
        "outputId": "0893e11b-ed08-4ee9-ac62-be507e906214"
      },
      "source": [
        "#그래프를 한눈에 시각화하기위해 'NA_Sales','EU_Sales','JP_Sales','Other_Sales','t_Sales'를 하나로 묶기\n",
        "df_sales=genre_sum.melt(id_vars='Genre')\n",
        "df_sales.rename(columns={'variable':'Region','value':'Sales'},inplace=True)\n",
        "df_sales.head()"
      ],
      "execution_count": null,
      "outputs": [
        {
          "output_type": "execute_result",
          "data": {
            "text/html": [
              "<div>\n",
              "<style scoped>\n",
              "    .dataframe tbody tr th:only-of-type {\n",
              "        vertical-align: middle;\n",
              "    }\n",
              "\n",
              "    .dataframe tbody tr th {\n",
              "        vertical-align: top;\n",
              "    }\n",
              "\n",
              "    .dataframe thead th {\n",
              "        text-align: right;\n",
              "    }\n",
              "</style>\n",
              "<table border=\"1\" class=\"dataframe\">\n",
              "  <thead>\n",
              "    <tr style=\"text-align: right;\">\n",
              "      <th></th>\n",
              "      <th>Genre</th>\n",
              "      <th>Region</th>\n",
              "      <th>Sales</th>\n",
              "    </tr>\n",
              "  </thead>\n",
              "  <tbody>\n",
              "    <tr>\n",
              "      <th>0</th>\n",
              "      <td>Action</td>\n",
              "      <td>NA_Sales</td>\n",
              "      <td>874.81</td>\n",
              "    </tr>\n",
              "    <tr>\n",
              "      <th>1</th>\n",
              "      <td>Adventure</td>\n",
              "      <td>NA_Sales</td>\n",
              "      <td>105.66</td>\n",
              "    </tr>\n",
              "    <tr>\n",
              "      <th>2</th>\n",
              "      <td>Fighting</td>\n",
              "      <td>NA_Sales</td>\n",
              "      <td>223.20</td>\n",
              "    </tr>\n",
              "    <tr>\n",
              "      <th>3</th>\n",
              "      <td>Misc</td>\n",
              "      <td>NA_Sales</td>\n",
              "      <td>408.05</td>\n",
              "    </tr>\n",
              "    <tr>\n",
              "      <th>4</th>\n",
              "      <td>Platform</td>\n",
              "      <td>NA_Sales</td>\n",
              "      <td>446.44</td>\n",
              "    </tr>\n",
              "  </tbody>\n",
              "</table>\n",
              "</div>"
            ],
            "text/plain": [
              "       Genre    Region   Sales\n",
              "0     Action  NA_Sales  874.81\n",
              "1  Adventure  NA_Sales  105.66\n",
              "2   Fighting  NA_Sales  223.20\n",
              "3       Misc  NA_Sales  408.05\n",
              "4   Platform  NA_Sales  446.44"
            ]
          },
          "metadata": {
            "tags": []
          },
          "execution_count": 27
        }
      ]
    },
    {
      "cell_type": "code",
      "metadata": {
        "colab": {
          "base_uri": "https://localhost:8080/",
          "height": 322
        },
        "id": "Ax6H-oXxBQls",
        "outputId": "cb0922f2-2765-4c0a-98db-6563e56a1537"
      },
      "source": [
        "plt.figure(figsize=(20,7))\n",
        "sns.barplot(data=df_sales,x='Region',y='Sales',hue='Genre', palette='colorblind')\n",
        "plt.legend(loc='upper left')\n",
        "plt.show()"
      ],
      "execution_count": null,
      "outputs": [
        {
          "output_type": "display_data",
          "data": {
            "image/png": "[encoded data removed]",
            "text/plain": [
              "<Figure size 1440x504 with 1 Axes>"
            ]
          },
          "metadata": {
            "tags": [],
            "needs_background": "light"
          }
        }
      ]
    },
    {
      "cell_type": "markdown",
      "metadata": {
        "id": "2EJtX6bfEl8n"
      },
      "source": [
        "위의 barplot은 북미,유럽,일본,기타지역의 각 장르별 총 판매량과 전체 총 판매량을 나타낸 그래프이다.\n",
        "\n",
        "위의 그래프를 해석해보면 북미, 유럽, 기타지역에서는 Action장르가 가장 판매량이 높지만,\n",
        "일본에서는 롤플레잉이 가장판매량이 높음을 알 수 있다.\n",
        "\n",
        "전체적으로는 Action, Sports 순으로 판매량이 높음을 알 수 있다."
      ]
    },
    {
      "cell_type": "markdown",
      "metadata": {
        "id": "eTaLj-xeFw3i"
      },
      "source": [
        "## **1-2.장르별 평균 판매량(지역별)**"
      ]
    },
    {
      "cell_type": "code",
      "metadata": {
        "colab": {
          "base_uri": "https://localhost:8080/"
        },
        "id": "9MEuiYxiF4oP",
        "outputId": "d5c43a45-5321-48ae-8284-f7e78756e8ce"
      },
      "source": [
        "genre_mean=df.groupby(['Genre'])['Genre','NA_Sales','EU_Sales','JP_Sales','Other_Sales','t_Sales'].mean()\n",
        "genre_mean.reset_index(inplace=True)\n",
        "genre_mean"
      ],
      "execution_count": null,
      "outputs": [
        {
          "output_type": "stream",
          "text": [
            "/usr/local/lib/python3.7/dist-packages/ipykernel_launcher.py:1: FutureWarning: Indexing with multiple keys (implicitly converted to a tuple of keys) will be deprecated, use a list instead.\n",
            "  \"\"\"Entry point for launching an IPython kernel.\n"
          ],
          "name": "stderr"
        },
        {
          "output_type": "execute_result",
          "data": {
            "text/html": [
              "<div>\n",
              "<style scoped>\n",
              "    .dataframe tbody tr th:only-of-type {\n",
              "        vertical-align: middle;\n",
              "    }\n",
              "\n",
              "    .dataframe tbody tr th {\n",
              "        vertical-align: top;\n",
              "    }\n",
              "\n",
              "    .dataframe thead th {\n",
              "        text-align: right;\n",
              "    }\n",
              "</style>\n",
              "<table border=\"1\" class=\"dataframe\">\n",
              "  <thead>\n",
              "    <tr style=\"text-align: right;\">\n",
              "      <th></th>\n",
              "      <th>Genre</th>\n",
              "      <th>NA_Sales</th>\n",
              "      <th>EU_Sales</th>\n",
              "      <th>JP_Sales</th>\n",
              "      <th>Other_Sales</th>\n",
              "      <th>t_Sales</th>\n",
              "    </tr>\n",
              "  </thead>\n",
              "  <tbody>\n",
              "    <tr>\n",
              "      <th>0</th>\n",
              "      <td>Action</td>\n",
              "      <td>0.264693</td>\n",
              "      <td>0.157991</td>\n",
              "      <td>0.047776</td>\n",
              "      <td>0.056415</td>\n",
              "      <td>0.526874</td>\n",
              "    </tr>\n",
              "    <tr>\n",
              "      <th>1</th>\n",
              "      <td>Adventure</td>\n",
              "      <td>0.082547</td>\n",
              "      <td>0.050039</td>\n",
              "      <td>0.040586</td>\n",
              "      <td>0.013133</td>\n",
              "      <td>0.186305</td>\n",
              "    </tr>\n",
              "    <tr>\n",
              "      <th>2</th>\n",
              "      <td>Fighting</td>\n",
              "      <td>0.263518</td>\n",
              "      <td>0.119504</td>\n",
              "      <td>0.103117</td>\n",
              "      <td>0.043259</td>\n",
              "      <td>0.529398</td>\n",
              "    </tr>\n",
              "    <tr>\n",
              "      <th>3</th>\n",
              "      <td>Misc</td>\n",
              "      <td>0.235323</td>\n",
              "      <td>0.122468</td>\n",
              "      <td>0.060709</td>\n",
              "      <td>0.042699</td>\n",
              "      <td>0.461200</td>\n",
              "    </tr>\n",
              "    <tr>\n",
              "      <th>4</th>\n",
              "      <td>Platform</td>\n",
              "      <td>0.505023</td>\n",
              "      <td>0.228066</td>\n",
              "      <td>0.147794</td>\n",
              "      <td>0.058292</td>\n",
              "      <td>0.939174</td>\n",
              "    </tr>\n",
              "    <tr>\n",
              "      <th>5</th>\n",
              "      <td>Puzzle</td>\n",
              "      <td>0.213408</td>\n",
              "      <td>0.087768</td>\n",
              "      <td>0.098391</td>\n",
              "      <td>0.021661</td>\n",
              "      <td>0.421228</td>\n",
              "    </tr>\n",
              "    <tr>\n",
              "      <th>6</th>\n",
              "      <td>Racing</td>\n",
              "      <td>0.287361</td>\n",
              "      <td>0.190748</td>\n",
              "      <td>0.045374</td>\n",
              "      <td>0.062027</td>\n",
              "      <td>0.585511</td>\n",
              "    </tr>\n",
              "    <tr>\n",
              "      <th>7</th>\n",
              "      <td>Role-Playing</td>\n",
              "      <td>0.215469</td>\n",
              "      <td>0.123790</td>\n",
              "      <td>0.232603</td>\n",
              "      <td>0.038409</td>\n",
              "      <td>0.610270</td>\n",
              "    </tr>\n",
              "    <tr>\n",
              "      <th>8</th>\n",
              "      <td>Shooter</td>\n",
              "      <td>0.444893</td>\n",
              "      <td>0.239335</td>\n",
              "      <td>0.029266</td>\n",
              "      <td>0.078479</td>\n",
              "      <td>0.791972</td>\n",
              "    </tr>\n",
              "    <tr>\n",
              "      <th>9</th>\n",
              "      <td>Simulation</td>\n",
              "      <td>0.211514</td>\n",
              "      <td>0.131040</td>\n",
              "      <td>0.073642</td>\n",
              "      <td>0.036393</td>\n",
              "      <td>0.452590</td>\n",
              "    </tr>\n",
              "    <tr>\n",
              "      <th>10</th>\n",
              "      <td>Sports</td>\n",
              "      <td>0.290696</td>\n",
              "      <td>0.160820</td>\n",
              "      <td>0.057826</td>\n",
              "      <td>0.057527</td>\n",
              "      <td>0.566869</td>\n",
              "    </tr>\n",
              "    <tr>\n",
              "      <th>11</th>\n",
              "      <td>Strategy</td>\n",
              "      <td>0.101029</td>\n",
              "      <td>0.066647</td>\n",
              "      <td>0.072735</td>\n",
              "      <td>0.016706</td>\n",
              "      <td>0.257118</td>\n",
              "    </tr>\n",
              "  </tbody>\n",
              "</table>\n",
              "</div>"
            ],
            "text/plain": [
              "           Genre  NA_Sales  EU_Sales  JP_Sales  Other_Sales   t_Sales\n",
              "0         Action  0.264693  0.157991  0.047776     0.056415  0.526874\n",
              "1      Adventure  0.082547  0.050039  0.040586     0.013133  0.186305\n",
              "2       Fighting  0.263518  0.119504  0.103117     0.043259  0.529398\n",
              "3           Misc  0.235323  0.122468  0.060709     0.042699  0.461200\n",
              "4       Platform  0.505023  0.228066  0.147794     0.058292  0.939174\n",
              "5         Puzzle  0.213408  0.087768  0.098391     0.021661  0.421228\n",
              "6         Racing  0.287361  0.190748  0.045374     0.062027  0.585511\n",
              "7   Role-Playing  0.215469  0.123790  0.232603     0.038409  0.610270\n",
              "8        Shooter  0.444893  0.239335  0.029266     0.078479  0.791972\n",
              "9     Simulation  0.211514  0.131040  0.073642     0.036393  0.452590\n",
              "10        Sports  0.290696  0.160820  0.057826     0.057527  0.566869\n",
              "11      Strategy  0.101029  0.066647  0.072735     0.016706  0.257118"
            ]
          },
          "metadata": {
            "tags": []
          },
          "execution_count": 29
        }
      ]
    },
    {
      "cell_type": "code",
      "metadata": {
        "colab": {
          "base_uri": "https://localhost:8080/"
        },
        "id": "BqgLNM53GAjC",
        "outputId": "8d0f4612-338c-4819-c365-9a102ad41eba"
      },
      "source": [
        "#그래프를 한눈에 시각화하기위해 'NA_Sales','EU_Sales','JP_Sales','Other_Sales','t_Sales'를 하나로 묶기\n",
        "df_mean=genre_mean.melt(id_vars='Genre')\n",
        "df_mean.rename(columns={'variable':'Region','value':'mean_Sale'},inplace=True)\n",
        "df_mean.head()"
      ],
      "execution_count": null,
      "outputs": [
        {
          "output_type": "execute_result",
          "data": {
            "text/html": [
              "<div>\n",
              "<style scoped>\n",
              "    .dataframe tbody tr th:only-of-type {\n",
              "        vertical-align: middle;\n",
              "    }\n",
              "\n",
              "    .dataframe tbody tr th {\n",
              "        vertical-align: top;\n",
              "    }\n",
              "\n",
              "    .dataframe thead th {\n",
              "        text-align: right;\n",
              "    }\n",
              "</style>\n",
              "<table border=\"1\" class=\"dataframe\">\n",
              "  <thead>\n",
              "    <tr style=\"text-align: right;\">\n",
              "      <th></th>\n",
              "      <th>Genre</th>\n",
              "      <th>Region</th>\n",
              "      <th>mean_Sale</th>\n",
              "    </tr>\n",
              "  </thead>\n",
              "  <tbody>\n",
              "    <tr>\n",
              "      <th>0</th>\n",
              "      <td>Action</td>\n",
              "      <td>NA_Sales</td>\n",
              "      <td>0.264693</td>\n",
              "    </tr>\n",
              "    <tr>\n",
              "      <th>1</th>\n",
              "      <td>Adventure</td>\n",
              "      <td>NA_Sales</td>\n",
              "      <td>0.082547</td>\n",
              "    </tr>\n",
              "    <tr>\n",
              "      <th>2</th>\n",
              "      <td>Fighting</td>\n",
              "      <td>NA_Sales</td>\n",
              "      <td>0.263518</td>\n",
              "    </tr>\n",
              "    <tr>\n",
              "      <th>3</th>\n",
              "      <td>Misc</td>\n",
              "      <td>NA_Sales</td>\n",
              "      <td>0.235323</td>\n",
              "    </tr>\n",
              "    <tr>\n",
              "      <th>4</th>\n",
              "      <td>Platform</td>\n",
              "      <td>NA_Sales</td>\n",
              "      <td>0.505023</td>\n",
              "    </tr>\n",
              "  </tbody>\n",
              "</table>\n",
              "</div>"
            ],
            "text/plain": [
              "       Genre    Region  mean_Sale\n",
              "0     Action  NA_Sales   0.264693\n",
              "1  Adventure  NA_Sales   0.082547\n",
              "2   Fighting  NA_Sales   0.263518\n",
              "3       Misc  NA_Sales   0.235323\n",
              "4   Platform  NA_Sales   0.505023"
            ]
          },
          "metadata": {
            "tags": []
          },
          "execution_count": 30
        }
      ]
    },
    {
      "cell_type": "code",
      "metadata": {
        "colab": {
          "base_uri": "https://localhost:8080/"
        },
        "id": "zQQWPW7rGOMH",
        "outputId": "9ccc3887-7e57-42c9-fda1-c0f60be6ac57"
      },
      "source": [
        "plt.figure(figsize=(20,7))\n",
        "sns.barplot(data=df_mean,x='Region',y='mean_Sale',hue='Genre', palette='colorblind')\n",
        "plt.legend(loc='upper left')\n",
        "plt.show()"
      ],
      "execution_count": null,
      "outputs": [
        {
          "output_type": "display_data",
          "data": {
            "image/png": "[encoded data removed]",
            "text/plain": [
              "<Figure size 1440x504 with 1 Axes>"
            ]
          },
          "metadata": {
            "tags": [],
            "needs_background": "light"
          }
        }
      ]
    },
    {
      "cell_type": "markdown",
      "metadata": {
        "id": "kAc2EIG2HSV-"
      },
      "source": [
        "위의 barplot은 북미,유럽,일본,기타지역의 각 장르별 평균 판매량과 전체 평균 판매량을 나타낸 그래프이다.\n",
        "\n",
        "그래프를 해석해보면 북미와 유럽에서는 Platform,Shooter 장르가 평균 판매량이 높고,\n",
        "일본에서는 롤플레잉과 Platform 이 평균 판매량이 높다.\n",
        "\n",
        "기타 지역에서는 Shooter가 가장 평균 판매량이 높다.\n",
        "\n",
        "전체적으로는 Platform,Shooter 순으로 평균 판매량이 높다."
      ]
    },
    {
      "cell_type": "markdown",
      "metadata": {
        "id": "ZAr8pT-74Xuz"
      },
      "source": [
        "## **1-3.장르별 판매량 검정**"
      ]
    },
    {
      "cell_type": "code",
      "metadata": {
        "colab": {
          "base_uri": "https://localhost:8080/",
          "height": 272
        },
        "id": "NuoBSjHd2rGZ",
        "outputId": "d70bbc34-6665-4abd-86bf-2bce77a2aad3"
      },
      "source": [
        "chi2=pd.crosstab(df_mean['Region'],df_mean['Genre'],values=df_mean['mean_Sale'],aggfunc='sum')\n",
        "chi2"
      ],
      "execution_count": null,
      "outputs": [
        {
          "output_type": "execute_result",
          "data": {
            "text/html": [
              "<div>\n",
              "<style scoped>\n",
              "    .dataframe tbody tr th:only-of-type {\n",
              "        vertical-align: middle;\n",
              "    }\n",
              "\n",
              "    .dataframe tbody tr th {\n",
              "        vertical-align: top;\n",
              "    }\n",
              "\n",
              "    .dataframe thead th {\n",
              "        text-align: right;\n",
              "    }\n",
              "</style>\n",
              "<table border=\"1\" class=\"dataframe\">\n",
              "  <thead>\n",
              "    <tr style=\"text-align: right;\">\n",
              "      <th>Genre</th>\n",
              "      <th>Action</th>\n",
              "      <th>Adventure</th>\n",
              "      <th>Fighting</th>\n",
              "      <th>Misc</th>\n",
              "      <th>Platform</th>\n",
              "      <th>Puzzle</th>\n",
              "      <th>Racing</th>\n",
              "      <th>Role-Playing</th>\n",
              "      <th>Shooter</th>\n",
              "      <th>Simulation</th>\n",
              "      <th>Sports</th>\n",
              "      <th>Strategy</th>\n",
              "    </tr>\n",
              "    <tr>\n",
              "      <th>Region</th>\n",
              "      <th></th>\n",
              "      <th></th>\n",
              "      <th></th>\n",
              "      <th></th>\n",
              "      <th></th>\n",
              "      <th></th>\n",
              "      <th></th>\n",
              "      <th></th>\n",
              "      <th></th>\n",
              "      <th></th>\n",
              "      <th></th>\n",
              "      <th></th>\n",
              "    </tr>\n",
              "  </thead>\n",
              "  <tbody>\n",
              "    <tr>\n",
              "      <th>EU_Sales</th>\n",
              "      <td>0.157991</td>\n",
              "      <td>0.050039</td>\n",
              "      <td>0.119504</td>\n",
              "      <td>0.122468</td>\n",
              "      <td>0.228066</td>\n",
              "      <td>0.087768</td>\n",
              "      <td>0.190748</td>\n",
              "      <td>0.123790</td>\n",
              "      <td>0.239335</td>\n",
              "      <td>0.131040</td>\n",
              "      <td>0.160820</td>\n",
              "      <td>0.066647</td>\n",
              "    </tr>\n",
              "    <tr>\n",
              "      <th>JP_Sales</th>\n",
              "      <td>0.047776</td>\n",
              "      <td>0.040586</td>\n",
              "      <td>0.103117</td>\n",
              "      <td>0.060709</td>\n",
              "      <td>0.147794</td>\n",
              "      <td>0.098391</td>\n",
              "      <td>0.045374</td>\n",
              "      <td>0.232603</td>\n",
              "      <td>0.029266</td>\n",
              "      <td>0.073642</td>\n",
              "      <td>0.057826</td>\n",
              "      <td>0.072735</td>\n",
              "    </tr>\n",
              "    <tr>\n",
              "      <th>NA_Sales</th>\n",
              "      <td>0.264693</td>\n",
              "      <td>0.082547</td>\n",
              "      <td>0.263518</td>\n",
              "      <td>0.235323</td>\n",
              "      <td>0.505023</td>\n",
              "      <td>0.213408</td>\n",
              "      <td>0.287361</td>\n",
              "      <td>0.215469</td>\n",
              "      <td>0.444893</td>\n",
              "      <td>0.211514</td>\n",
              "      <td>0.290696</td>\n",
              "      <td>0.101029</td>\n",
              "    </tr>\n",
              "    <tr>\n",
              "      <th>Other_Sales</th>\n",
              "      <td>0.056415</td>\n",
              "      <td>0.013133</td>\n",
              "      <td>0.043259</td>\n",
              "      <td>0.042699</td>\n",
              "      <td>0.058292</td>\n",
              "      <td>0.021661</td>\n",
              "      <td>0.062027</td>\n",
              "      <td>0.038409</td>\n",
              "      <td>0.078479</td>\n",
              "      <td>0.036393</td>\n",
              "      <td>0.057527</td>\n",
              "      <td>0.016706</td>\n",
              "    </tr>\n",
              "    <tr>\n",
              "      <th>t_Sales</th>\n",
              "      <td>0.526874</td>\n",
              "      <td>0.186305</td>\n",
              "      <td>0.529398</td>\n",
              "      <td>0.461200</td>\n",
              "      <td>0.939174</td>\n",
              "      <td>0.421228</td>\n",
              "      <td>0.585511</td>\n",
              "      <td>0.610270</td>\n",
              "      <td>0.791972</td>\n",
              "      <td>0.452590</td>\n",
              "      <td>0.566869</td>\n",
              "      <td>0.257118</td>\n",
              "    </tr>\n",
              "  </tbody>\n",
              "</table>\n",
              "</div>"
            ],
            "text/plain": [
              "Genre          Action  Adventure  Fighting  ...  Simulation    Sports  Strategy\n",
              "Region                                      ...                                \n",
              "EU_Sales     0.157991   0.050039  0.119504  ...    0.131040  0.160820  0.066647\n",
              "JP_Sales     0.047776   0.040586  0.103117  ...    0.073642  0.057826  0.072735\n",
              "NA_Sales     0.264693   0.082547  0.263518  ...    0.211514  0.290696  0.101029\n",
              "Other_Sales  0.056415   0.013133  0.043259  ...    0.036393  0.057527  0.016706\n",
              "t_Sales      0.526874   0.186305  0.529398  ...    0.452590  0.566869  0.257118\n",
              "\n",
              "[5 rows x 12 columns]"
            ]
          },
          "metadata": {
            "tags": []
          },
          "execution_count": 32
        }
      ]
    },
    {
      "cell_type": "code",
      "metadata": {
        "colab": {
          "base_uri": "https://localhost:8080/"
        },
        "id": "TBMZ2pdL3TLp",
        "outputId": "b0ed7719-6b3e-4a9a-defe-546b431acd49"
      },
      "source": [
        "from scipy.stats import chi2_contingency\n",
        "chi2_contingency(chi2)"
      ],
      "execution_count": null,
      "outputs": [
        {
          "output_type": "execute_result",
          "data": {
            "text/plain": [
              "(0.4698150467807865,\n",
              " 1.0,\n",
              " 44,\n",
              " array([[0.13971845, 0.04940495, 0.14038763, 0.12230255, 0.24905359,\n",
              "         0.11170285, 0.15526787, 0.16183351, 0.2100181 , 0.12001933,\n",
              "         0.15032432, 0.06818338],\n",
              "        [0.0840716 , 0.02972802, 0.08447426, 0.07359207, 0.1498609 ,\n",
              "         0.06721401, 0.09342802, 0.09737871, 0.12637241, 0.07221821,\n",
              "         0.09045338, 0.04102741],\n",
              "        [0.25937615, 0.09171633, 0.26061842, 0.22704491, 0.46234809,\n",
              "         0.20736742, 0.2882424 , 0.30043099, 0.38988183, 0.2228063 ,\n",
              "         0.27906509, 0.126577  ],\n",
              "        [0.04370824, 0.01545539, 0.04391758, 0.03826001, 0.07791163,\n",
              "         0.03494409, 0.04857257, 0.05062651, 0.06570013, 0.03754574,\n",
              "         0.04702608, 0.02132986],\n",
              "        [0.52687443, 0.18630469, 0.52939787, 0.46119954, 0.93917421,\n",
              "         0.42122837, 0.58551086, 0.61026972, 0.79197248, 0.4525896 ,\n",
              "         0.56686886, 0.25711765]]))"
            ]
          },
          "metadata": {
            "tags": []
          },
          "execution_count": 33
        }
      ]
    },
    {
      "cell_type": "markdown",
      "metadata": {
        "id": "r26j3jwBNG1m"
      },
      "source": [
        "\n",
        "\n",
        "*   귀무가설:지역과 게임 장르별 평균 판매량은 연관이 없다.\n",
        "*   대립가설:지역과 게임 장르별 평균 판매량은 연관이 없지는 않다.\n",
        "*   pvalue>0.05이므로 귀무가설 채택. =>지역과 게임 장르별 평균 판매량은 연관이 없다.\n",
        "\n",
        "\n",
        "\n",
        "\n"
      ]
    },
    {
      "cell_type": "code",
      "metadata": {
        "colab": {
          "base_uri": "https://localhost:8080/",
          "height": 272
        },
        "id": "pyJ_EWp1Bk4z",
        "outputId": "38f7f69a-2c1c-460e-810b-ed94d9527ba2"
      },
      "source": [
        "chi3=pd.crosstab(df_sales['Region'],df_sales['Genre'],values=df_sales['Sales'],aggfunc='sum')\n",
        "chi3"
      ],
      "execution_count": null,
      "outputs": [
        {
          "output_type": "execute_result",
          "data": {
            "text/html": [
              "<div>\n",
              "<style scoped>\n",
              "    .dataframe tbody tr th:only-of-type {\n",
              "        vertical-align: middle;\n",
              "    }\n",
              "\n",
              "    .dataframe tbody tr th {\n",
              "        vertical-align: top;\n",
              "    }\n",
              "\n",
              "    .dataframe thead th {\n",
              "        text-align: right;\n",
              "    }\n",
              "</style>\n",
              "<table border=\"1\" class=\"dataframe\">\n",
              "  <thead>\n",
              "    <tr style=\"text-align: right;\">\n",
              "      <th>Genre</th>\n",
              "      <th>Action</th>\n",
              "      <th>Adventure</th>\n",
              "      <th>Fighting</th>\n",
              "      <th>Misc</th>\n",
              "      <th>Platform</th>\n",
              "      <th>Puzzle</th>\n",
              "      <th>Racing</th>\n",
              "      <th>Role-Playing</th>\n",
              "      <th>Shooter</th>\n",
              "      <th>Simulation</th>\n",
              "      <th>Sports</th>\n",
              "      <th>Strategy</th>\n",
              "    </tr>\n",
              "    <tr>\n",
              "      <th>Region</th>\n",
              "      <th></th>\n",
              "      <th></th>\n",
              "      <th></th>\n",
              "      <th></th>\n",
              "      <th></th>\n",
              "      <th></th>\n",
              "      <th></th>\n",
              "      <th></th>\n",
              "      <th></th>\n",
              "      <th></th>\n",
              "      <th></th>\n",
              "      <th></th>\n",
              "    </tr>\n",
              "  </thead>\n",
              "  <tbody>\n",
              "    <tr>\n",
              "      <th>EU_Sales</th>\n",
              "      <td>522.16</td>\n",
              "      <td>64.05</td>\n",
              "      <td>101.22</td>\n",
              "      <td>212.36</td>\n",
              "      <td>201.61</td>\n",
              "      <td>50.73</td>\n",
              "      <td>237.10</td>\n",
              "      <td>183.58</td>\n",
              "      <td>313.05</td>\n",
              "      <td>113.35</td>\n",
              "      <td>376.48</td>\n",
              "      <td>45.32</td>\n",
              "    </tr>\n",
              "    <tr>\n",
              "      <th>JP_Sales</th>\n",
              "      <td>157.90</td>\n",
              "      <td>51.95</td>\n",
              "      <td>87.34</td>\n",
              "      <td>105.27</td>\n",
              "      <td>130.65</td>\n",
              "      <td>56.87</td>\n",
              "      <td>56.40</td>\n",
              "      <td>344.95</td>\n",
              "      <td>38.28</td>\n",
              "      <td>63.70</td>\n",
              "      <td>135.37</td>\n",
              "      <td>49.46</td>\n",
              "    </tr>\n",
              "    <tr>\n",
              "      <th>NA_Sales</th>\n",
              "      <td>874.81</td>\n",
              "      <td>105.66</td>\n",
              "      <td>223.20</td>\n",
              "      <td>408.05</td>\n",
              "      <td>446.44</td>\n",
              "      <td>123.35</td>\n",
              "      <td>357.19</td>\n",
              "      <td>319.54</td>\n",
              "      <td>581.92</td>\n",
              "      <td>182.96</td>\n",
              "      <td>680.52</td>\n",
              "      <td>68.70</td>\n",
              "    </tr>\n",
              "    <tr>\n",
              "      <th>Other_Sales</th>\n",
              "      <td>186.45</td>\n",
              "      <td>16.81</td>\n",
              "      <td>36.64</td>\n",
              "      <td>74.04</td>\n",
              "      <td>51.53</td>\n",
              "      <td>12.52</td>\n",
              "      <td>77.10</td>\n",
              "      <td>56.96</td>\n",
              "      <td>102.65</td>\n",
              "      <td>31.48</td>\n",
              "      <td>134.67</td>\n",
              "      <td>11.36</td>\n",
              "    </tr>\n",
              "    <tr>\n",
              "      <th>t_Sales</th>\n",
              "      <td>1741.32</td>\n",
              "      <td>238.47</td>\n",
              "      <td>448.40</td>\n",
              "      <td>799.72</td>\n",
              "      <td>830.23</td>\n",
              "      <td>243.47</td>\n",
              "      <td>727.79</td>\n",
              "      <td>905.03</td>\n",
              "      <td>1035.90</td>\n",
              "      <td>391.49</td>\n",
              "      <td>1327.04</td>\n",
              "      <td>174.84</td>\n",
              "    </tr>\n",
              "  </tbody>\n",
              "</table>\n",
              "</div>"
            ],
            "text/plain": [
              "Genre         Action  Adventure  Fighting  ...  Simulation   Sports  Strategy\n",
              "Region                                     ...                               \n",
              "EU_Sales      522.16      64.05    101.22  ...      113.35   376.48     45.32\n",
              "JP_Sales      157.90      51.95     87.34  ...       63.70   135.37     49.46\n",
              "NA_Sales      874.81     105.66    223.20  ...      182.96   680.52     68.70\n",
              "Other_Sales   186.45      16.81     36.64  ...       31.48   134.67     11.36\n",
              "t_Sales      1741.32     238.47    448.40  ...      391.49  1327.04    174.84\n",
              "\n",
              "[5 rows x 12 columns]"
            ]
          },
          "metadata": {
            "tags": []
          },
          "execution_count": 34
        }
      ]
    },
    {
      "cell_type": "code",
      "metadata": {
        "colab": {
          "base_uri": "https://localhost:8080/"
        },
        "id": "sGwXTW2xBm6S",
        "outputId": "187d5f7a-b025-4486-a82a-3c978ab552c3"
      },
      "source": [
        "from scipy.stats import chi2_contingency\n",
        "chi2_contingency(chi3)"
      ],
      "execution_count": null,
      "outputs": [
        {
          "output_type": "execute_result",
          "data": {
            "text/plain": [
              "(696.7959761665388,\n",
              " 2.4821948321842943e-118,\n",
              " 44,\n",
              " array([[ 475.6200157 ,   65.13513033,  122.47491273,  218.43362447,\n",
              "          226.76705352,   66.50081847,  198.78683483,  247.19774815,\n",
              "          282.94326963,  106.93065028,  362.46455886,   47.75538301],\n",
              "        [ 251.09725564,   34.38722495,   64.65899974,  115.31912416,\n",
              "          119.71864709,   35.10822183,  104.94686312,  130.50476034,\n",
              "          149.37613254,   56.45261331,  191.35833857,   25.21181872],\n",
              "        [ 858.96895075,  117.63393614,  221.18948701,  394.49075948,\n",
              "          409.54091837,  120.10036664,  359.00869034,  446.43871862,\n",
              "          510.99507046,  193.11657509,  654.61038546,   86.24614163],\n",
              "        [ 155.6337779 ,   21.31370858,   40.07660052,   71.47649189,\n",
              "           74.20338101,   21.76059306,   65.04761171,   80.88877289,\n",
              "           92.58552738,   34.99016132,  118.6067171 ,   15.62665663],\n",
              "        [1741.32      ,  238.47      ,  448.4       ,  799.72      ,\n",
              "          830.23      ,  243.47      ,  727.79      ,  905.03      ,\n",
              "         1035.9       ,  391.49      , 1327.04      ,  174.84      ]]))"
            ]
          },
          "metadata": {
            "tags": []
          },
          "execution_count": 35
        }
      ]
    },
    {
      "cell_type": "markdown",
      "metadata": {
        "id": "fmqA_8CYB38E"
      },
      "source": [
        "*   귀무가설:지역과 게임 장르별 총 판매량은 연관이 없다.\n",
        "*   대립가설:지역과 게임 장르별 총 판매량은 연관이 없지는 않다.\n",
        "*   pvalue<0.05이므로 대립가설 채택. =>지역과 게임 장르별 총 판매량은 연관이 없지않다. => 총 판매량 기준으로 결론 내자"
      ]
    },
    {
      "cell_type": "markdown",
      "metadata": {
        "id": "OSVrDmkoCCYT"
      },
      "source": [
        "## **1-4.결론: 지역에 따라서 선호하는 게임 장르가 다를까?**\n",
        "\n",
        "**게임 장르별 총 판매량 기준**\n",
        "```\n",
        "북미(NA): 1)Action 2)Sport 3)Shooter\n",
        "유럽(EU): 1)Action 2)Sport 3)Shooter\n",
        "일본(JP): 1)Role-Playing 2)Action 3)Sport\n",
        "기타지역(Other): 1)Action 2)Sport 3)Shooter\n",
        "```\n",
        "\n",
        "**북미,유럽,기타지역**\n",
        "\n",
        "\n",
        "```\n",
        "선호하는 장르가 동일.\n",
        "'Action', 'Sport', 'Shooter' 순으로 인기.\n",
        "```\n",
        "\n",
        "**일본**\n",
        "\n",
        "\n",
        "```\n",
        "'Role-Playing', 'Action', 'Sport' 순으로 인기.\n",
        "```\n",
        "\n"
      ]
    },
    {
      "cell_type": "markdown",
      "metadata": {
        "id": "fNiuLqtSAcUC"
      },
      "source": [
        "#**2.연도별 게임의 트렌드가 있을까?**"
      ]
    },
    {
      "cell_type": "markdown",
      "metadata": {
        "id": "GVUAjktkAl1y"
      },
      "source": [
        "## **2-1.연도별 게임 장르별 판매량**\n",
        "연도별로 출시된 게임장르별 판매량을 살펴보자자"
      ]
    },
    {
      "cell_type": "code",
      "metadata": {
        "id": "Pz54KCf6Majv"
      },
      "source": [
        "def toint(str):\n",
        "  return int(str)"
      ],
      "execution_count": null,
      "outputs": []
    },
    {
      "cell_type": "code",
      "metadata": {
        "colab": {
          "base_uri": "https://localhost:8080/",
          "height": 419
        },
        "id": "35CdUgLoGVxK",
        "outputId": "9a1c9324-2d7f-4e5c-b8a4-37e2aa6a039f"
      },
      "source": [
        "df_year=df.groupby(['Year','Genre']).sum()\n",
        "df_year.reset_index(inplace=True)\n",
        "df_year['Year']=df_year['Year'].apply(toint)\n",
        "df_year"
      ],
      "execution_count": null,
      "outputs": [
        {
          "output_type": "execute_result",
          "data": {
            "text/html": [
              "<div>\n",
              "<style scoped>\n",
              "    .dataframe tbody tr th:only-of-type {\n",
              "        vertical-align: middle;\n",
              "    }\n",
              "\n",
              "    .dataframe tbody tr th {\n",
              "        vertical-align: top;\n",
              "    }\n",
              "\n",
              "    .dataframe thead th {\n",
              "        text-align: right;\n",
              "    }\n",
              "</style>\n",
              "<table border=\"1\" class=\"dataframe\">\n",
              "  <thead>\n",
              "    <tr style=\"text-align: right;\">\n",
              "      <th></th>\n",
              "      <th>Year</th>\n",
              "      <th>Genre</th>\n",
              "      <th>NA_Sales</th>\n",
              "      <th>EU_Sales</th>\n",
              "      <th>JP_Sales</th>\n",
              "      <th>Other_Sales</th>\n",
              "      <th>t_Sales</th>\n",
              "    </tr>\n",
              "  </thead>\n",
              "  <tbody>\n",
              "    <tr>\n",
              "      <th>0</th>\n",
              "      <td>1980</td>\n",
              "      <td>Action</td>\n",
              "      <td>0.32</td>\n",
              "      <td>0.02</td>\n",
              "      <td>0.00</td>\n",
              "      <td>0.00</td>\n",
              "      <td>0.34</td>\n",
              "    </tr>\n",
              "    <tr>\n",
              "      <th>1</th>\n",
              "      <td>1980</td>\n",
              "      <td>Fighting</td>\n",
              "      <td>0.72</td>\n",
              "      <td>0.04</td>\n",
              "      <td>0.00</td>\n",
              "      <td>0.01</td>\n",
              "      <td>0.77</td>\n",
              "    </tr>\n",
              "    <tr>\n",
              "      <th>2</th>\n",
              "      <td>1980</td>\n",
              "      <td>Misc</td>\n",
              "      <td>2.53</td>\n",
              "      <td>0.15</td>\n",
              "      <td>0.00</td>\n",
              "      <td>0.02</td>\n",
              "      <td>2.70</td>\n",
              "    </tr>\n",
              "    <tr>\n",
              "      <th>3</th>\n",
              "      <td>1980</td>\n",
              "      <td>Shooter</td>\n",
              "      <td>6.56</td>\n",
              "      <td>0.43</td>\n",
              "      <td>0.00</td>\n",
              "      <td>0.08</td>\n",
              "      <td>7.07</td>\n",
              "    </tr>\n",
              "    <tr>\n",
              "      <th>4</th>\n",
              "      <td>1981</td>\n",
              "      <td>Action</td>\n",
              "      <td>13.86</td>\n",
              "      <td>0.81</td>\n",
              "      <td>0.00</td>\n",
              "      <td>0.12</td>\n",
              "      <td>14.79</td>\n",
              "    </tr>\n",
              "    <tr>\n",
              "      <th>...</th>\n",
              "      <td>...</td>\n",
              "      <td>...</td>\n",
              "      <td>...</td>\n",
              "      <td>...</td>\n",
              "      <td>...</td>\n",
              "      <td>...</td>\n",
              "      <td>...</td>\n",
              "    </tr>\n",
              "    <tr>\n",
              "      <th>383</th>\n",
              "      <td>2016</td>\n",
              "      <td>Sports</td>\n",
              "      <td>4.57</td>\n",
              "      <td>7.36</td>\n",
              "      <td>0.78</td>\n",
              "      <td>1.92</td>\n",
              "      <td>14.63</td>\n",
              "    </tr>\n",
              "    <tr>\n",
              "      <th>384</th>\n",
              "      <td>2016</td>\n",
              "      <td>Strategy</td>\n",
              "      <td>0.11</td>\n",
              "      <td>0.32</td>\n",
              "      <td>0.05</td>\n",
              "      <td>0.04</td>\n",
              "      <td>0.52</td>\n",
              "    </tr>\n",
              "    <tr>\n",
              "      <th>385</th>\n",
              "      <td>2017</td>\n",
              "      <td>Action</td>\n",
              "      <td>0.00</td>\n",
              "      <td>0.00</td>\n",
              "      <td>0.01</td>\n",
              "      <td>0.00</td>\n",
              "      <td>0.01</td>\n",
              "    </tr>\n",
              "    <tr>\n",
              "      <th>386</th>\n",
              "      <td>2017</td>\n",
              "      <td>Role-Playing</td>\n",
              "      <td>0.00</td>\n",
              "      <td>0.00</td>\n",
              "      <td>0.04</td>\n",
              "      <td>0.00</td>\n",
              "      <td>0.04</td>\n",
              "    </tr>\n",
              "    <tr>\n",
              "      <th>387</th>\n",
              "      <td>2020</td>\n",
              "      <td>Simulation</td>\n",
              "      <td>0.27</td>\n",
              "      <td>0.00</td>\n",
              "      <td>0.00</td>\n",
              "      <td>0.02</td>\n",
              "      <td>0.29</td>\n",
              "    </tr>\n",
              "  </tbody>\n",
              "</table>\n",
              "<p>388 rows × 7 columns</p>\n",
              "</div>"
            ],
            "text/plain": [
              "     Year         Genre  NA_Sales  EU_Sales  JP_Sales  Other_Sales  t_Sales\n",
              "0    1980        Action      0.32      0.02      0.00         0.00     0.34\n",
              "1    1980      Fighting      0.72      0.04      0.00         0.01     0.77\n",
              "2    1980          Misc      2.53      0.15      0.00         0.02     2.70\n",
              "3    1980       Shooter      6.56      0.43      0.00         0.08     7.07\n",
              "4    1981        Action     13.86      0.81      0.00         0.12    14.79\n",
              "..    ...           ...       ...       ...       ...          ...      ...\n",
              "383  2016        Sports      4.57      7.36      0.78         1.92    14.63\n",
              "384  2016      Strategy      0.11      0.32      0.05         0.04     0.52\n",
              "385  2017        Action      0.00      0.00      0.01         0.00     0.01\n",
              "386  2017  Role-Playing      0.00      0.00      0.04         0.00     0.04\n",
              "387  2020    Simulation      0.27      0.00      0.00         0.02     0.29\n",
              "\n",
              "[388 rows x 7 columns]"
            ]
          },
          "metadata": {
            "tags": []
          },
          "execution_count": 37
        }
      ]
    },
    {
      "cell_type": "code",
      "metadata": {
        "colab": {
          "base_uri": "https://localhost:8080/",
          "height": 458
        },
        "id": "MPX8DCjAJQ4z",
        "outputId": "b2ba84d5-b796-47d8-b527-61aec872c190"
      },
      "source": [
        "genre_years=pd.crosstab(df_year['Year'],df_year['Genre'],values=df_year['t_Sales'],aggfunc='sum').fillna(0)\n",
        "genre_years['sum']=genre_years.sum(axis=1) #총액\n",
        "genre_years.head(11)"
      ],
      "execution_count": null,
      "outputs": [
        {
          "output_type": "execute_result",
          "data": {
            "text/html": [
              "<div>\n",
              "<style scoped>\n",
              "    .dataframe tbody tr th:only-of-type {\n",
              "        vertical-align: middle;\n",
              "    }\n",
              "\n",
              "    .dataframe tbody tr th {\n",
              "        vertical-align: top;\n",
              "    }\n",
              "\n",
              "    .dataframe thead th {\n",
              "        text-align: right;\n",
              "    }\n",
              "</style>\n",
              "<table border=\"1\" class=\"dataframe\">\n",
              "  <thead>\n",
              "    <tr style=\"text-align: right;\">\n",
              "      <th>Genre</th>\n",
              "      <th>Action</th>\n",
              "      <th>Adventure</th>\n",
              "      <th>Fighting</th>\n",
              "      <th>Misc</th>\n",
              "      <th>Platform</th>\n",
              "      <th>Puzzle</th>\n",
              "      <th>Racing</th>\n",
              "      <th>Role-Playing</th>\n",
              "      <th>Shooter</th>\n",
              "      <th>Simulation</th>\n",
              "      <th>Sports</th>\n",
              "      <th>Strategy</th>\n",
              "      <th>sum</th>\n",
              "    </tr>\n",
              "    <tr>\n",
              "      <th>Year</th>\n",
              "      <th></th>\n",
              "      <th></th>\n",
              "      <th></th>\n",
              "      <th></th>\n",
              "      <th></th>\n",
              "      <th></th>\n",
              "      <th></th>\n",
              "      <th></th>\n",
              "      <th></th>\n",
              "      <th></th>\n",
              "      <th></th>\n",
              "      <th></th>\n",
              "      <th></th>\n",
              "    </tr>\n",
              "  </thead>\n",
              "  <tbody>\n",
              "    <tr>\n",
              "      <th>1980</th>\n",
              "      <td>0.34</td>\n",
              "      <td>0.00</td>\n",
              "      <td>0.77</td>\n",
              "      <td>2.70</td>\n",
              "      <td>0.00</td>\n",
              "      <td>0.00</td>\n",
              "      <td>0.00</td>\n",
              "      <td>0.00</td>\n",
              "      <td>7.07</td>\n",
              "      <td>0.00</td>\n",
              "      <td>0.00</td>\n",
              "      <td>0.0</td>\n",
              "      <td>10.88</td>\n",
              "    </tr>\n",
              "    <tr>\n",
              "      <th>1981</th>\n",
              "      <td>14.79</td>\n",
              "      <td>0.00</td>\n",
              "      <td>0.00</td>\n",
              "      <td>0.00</td>\n",
              "      <td>6.92</td>\n",
              "      <td>2.25</td>\n",
              "      <td>0.48</td>\n",
              "      <td>0.00</td>\n",
              "      <td>10.02</td>\n",
              "      <td>0.44</td>\n",
              "      <td>0.78</td>\n",
              "      <td>0.0</td>\n",
              "      <td>35.68</td>\n",
              "    </tr>\n",
              "    <tr>\n",
              "      <th>1982</th>\n",
              "      <td>6.50</td>\n",
              "      <td>0.00</td>\n",
              "      <td>0.00</td>\n",
              "      <td>0.87</td>\n",
              "      <td>5.03</td>\n",
              "      <td>10.04</td>\n",
              "      <td>1.57</td>\n",
              "      <td>0.00</td>\n",
              "      <td>3.81</td>\n",
              "      <td>0.00</td>\n",
              "      <td>1.06</td>\n",
              "      <td>0.0</td>\n",
              "      <td>28.88</td>\n",
              "    </tr>\n",
              "    <tr>\n",
              "      <th>1983</th>\n",
              "      <td>2.86</td>\n",
              "      <td>0.40</td>\n",
              "      <td>0.00</td>\n",
              "      <td>2.14</td>\n",
              "      <td>6.93</td>\n",
              "      <td>0.78</td>\n",
              "      <td>0.00</td>\n",
              "      <td>0.00</td>\n",
              "      <td>0.49</td>\n",
              "      <td>0.00</td>\n",
              "      <td>3.20</td>\n",
              "      <td>0.0</td>\n",
              "      <td>16.80</td>\n",
              "    </tr>\n",
              "    <tr>\n",
              "      <th>1984</th>\n",
              "      <td>1.85</td>\n",
              "      <td>0.00</td>\n",
              "      <td>0.00</td>\n",
              "      <td>1.45</td>\n",
              "      <td>0.69</td>\n",
              "      <td>3.14</td>\n",
              "      <td>5.95</td>\n",
              "      <td>0.00</td>\n",
              "      <td>31.10</td>\n",
              "      <td>0.00</td>\n",
              "      <td>6.17</td>\n",
              "      <td>0.0</td>\n",
              "      <td>50.35</td>\n",
              "    </tr>\n",
              "    <tr>\n",
              "      <th>1985</th>\n",
              "      <td>3.52</td>\n",
              "      <td>0.00</td>\n",
              "      <td>1.05</td>\n",
              "      <td>0.00</td>\n",
              "      <td>43.17</td>\n",
              "      <td>3.21</td>\n",
              "      <td>0.00</td>\n",
              "      <td>0.00</td>\n",
              "      <td>1.00</td>\n",
              "      <td>0.04</td>\n",
              "      <td>1.96</td>\n",
              "      <td>0.0</td>\n",
              "      <td>53.95</td>\n",
              "    </tr>\n",
              "    <tr>\n",
              "      <th>1986</th>\n",
              "      <td>13.74</td>\n",
              "      <td>0.00</td>\n",
              "      <td>0.00</td>\n",
              "      <td>0.00</td>\n",
              "      <td>9.39</td>\n",
              "      <td>0.00</td>\n",
              "      <td>1.96</td>\n",
              "      <td>2.52</td>\n",
              "      <td>3.89</td>\n",
              "      <td>0.00</td>\n",
              "      <td>5.58</td>\n",
              "      <td>0.0</td>\n",
              "      <td>37.08</td>\n",
              "    </tr>\n",
              "    <tr>\n",
              "      <th>1987</th>\n",
              "      <td>1.11</td>\n",
              "      <td>4.38</td>\n",
              "      <td>5.42</td>\n",
              "      <td>0.00</td>\n",
              "      <td>1.74</td>\n",
              "      <td>0.00</td>\n",
              "      <td>0.00</td>\n",
              "      <td>4.65</td>\n",
              "      <td>0.69</td>\n",
              "      <td>0.00</td>\n",
              "      <td>3.71</td>\n",
              "      <td>0.0</td>\n",
              "      <td>21.70</td>\n",
              "    </tr>\n",
              "    <tr>\n",
              "      <th>1988</th>\n",
              "      <td>1.74</td>\n",
              "      <td>0.00</td>\n",
              "      <td>0.00</td>\n",
              "      <td>0.00</td>\n",
              "      <td>27.73</td>\n",
              "      <td>5.58</td>\n",
              "      <td>2.14</td>\n",
              "      <td>5.88</td>\n",
              "      <td>0.51</td>\n",
              "      <td>0.03</td>\n",
              "      <td>3.60</td>\n",
              "      <td>0.0</td>\n",
              "      <td>47.21</td>\n",
              "    </tr>\n",
              "    <tr>\n",
              "      <th>1989</th>\n",
              "      <td>4.65</td>\n",
              "      <td>0.00</td>\n",
              "      <td>0.00</td>\n",
              "      <td>1.28</td>\n",
              "      <td>20.66</td>\n",
              "      <td>37.75</td>\n",
              "      <td>0.00</td>\n",
              "      <td>2.20</td>\n",
              "      <td>1.19</td>\n",
              "      <td>0.00</td>\n",
              "      <td>5.72</td>\n",
              "      <td>0.0</td>\n",
              "      <td>73.45</td>\n",
              "    </tr>\n",
              "    <tr>\n",
              "      <th>1990</th>\n",
              "      <td>6.39</td>\n",
              "      <td>0.00</td>\n",
              "      <td>0.00</td>\n",
              "      <td>0.00</td>\n",
              "      <td>22.98</td>\n",
              "      <td>5.99</td>\n",
              "      <td>6.25</td>\n",
              "      <td>4.52</td>\n",
              "      <td>0.00</td>\n",
              "      <td>1.13</td>\n",
              "      <td>2.11</td>\n",
              "      <td>0.0</td>\n",
              "      <td>49.37</td>\n",
              "    </tr>\n",
              "  </tbody>\n",
              "</table>\n",
              "</div>"
            ],
            "text/plain": [
              "Genre  Action  Adventure  Fighting  Misc  ...  Simulation  Sports  Strategy    sum\n",
              "Year                                      ...                                     \n",
              "1980     0.34       0.00      0.77  2.70  ...        0.00    0.00       0.0  10.88\n",
              "1981    14.79       0.00      0.00  0.00  ...        0.44    0.78       0.0  35.68\n",
              "1982     6.50       0.00      0.00  0.87  ...        0.00    1.06       0.0  28.88\n",
              "1983     2.86       0.40      0.00  2.14  ...        0.00    3.20       0.0  16.80\n",
              "1984     1.85       0.00      0.00  1.45  ...        0.00    6.17       0.0  50.35\n",
              "1985     3.52       0.00      1.05  0.00  ...        0.04    1.96       0.0  53.95\n",
              "1986    13.74       0.00      0.00  0.00  ...        0.00    5.58       0.0  37.08\n",
              "1987     1.11       4.38      5.42  0.00  ...        0.00    3.71       0.0  21.70\n",
              "1988     1.74       0.00      0.00  0.00  ...        0.03    3.60       0.0  47.21\n",
              "1989     4.65       0.00      0.00  1.28  ...        0.00    5.72       0.0  73.45\n",
              "1990     6.39       0.00      0.00  0.00  ...        1.13    2.11       0.0  49.37\n",
              "\n",
              "[11 rows x 13 columns]"
            ]
          },
          "metadata": {
            "tags": []
          },
          "execution_count": 38
        }
      ]
    },
    {
      "cell_type": "code",
      "metadata": {
        "id": "FCUfKvP-zpQ8"
      },
      "source": [
        "#총액/본인값\n",
        "#for i in genre_years.columns:\n",
        " # genre_years[i]=genre_years[i]/genre_years['sum']\n",
        "#genre_years=genre_years.drop('sum',axis=1)\n",
        "#genre_years.head(11)"
      ],
      "execution_count": null,
      "outputs": []
    },
    {
      "cell_type": "code",
      "metadata": {
        "colab": {
          "base_uri": "https://localhost:8080/",
          "height": 458
        },
        "id": "EkndrisTKAqn",
        "outputId": "5f472c30-47f2-4068-de4a-7e51b036e008"
      },
      "source": [
        "#총액/본인값\n",
        "for i in genre_years.columns:\n",
        "  genre_years[i]=genre_years[i]/genre_years['sum']\n",
        "genre_years=genre_years.drop('sum',axis=1)\n",
        "genre_years=genre_years.T\n",
        "genre_years.reset_index(inplace=True)\n",
        "genre_years"
      ],
      "execution_count": null,
      "outputs": [
        {
          "output_type": "execute_result",
          "data": {
            "text/html": [
              "<div>\n",
              "<style scoped>\n",
              "    .dataframe tbody tr th:only-of-type {\n",
              "        vertical-align: middle;\n",
              "    }\n",
              "\n",
              "    .dataframe tbody tr th {\n",
              "        vertical-align: top;\n",
              "    }\n",
              "\n",
              "    .dataframe thead th {\n",
              "        text-align: right;\n",
              "    }\n",
              "</style>\n",
              "<table border=\"1\" class=\"dataframe\">\n",
              "  <thead>\n",
              "    <tr style=\"text-align: right;\">\n",
              "      <th>Year</th>\n",
              "      <th>Genre</th>\n",
              "      <th>1980</th>\n",
              "      <th>1981</th>\n",
              "      <th>1982</th>\n",
              "      <th>1983</th>\n",
              "      <th>1984</th>\n",
              "      <th>1985</th>\n",
              "      <th>1986</th>\n",
              "      <th>1987</th>\n",
              "      <th>1988</th>\n",
              "      <th>1989</th>\n",
              "      <th>1990</th>\n",
              "      <th>1991</th>\n",
              "      <th>1992</th>\n",
              "      <th>1993</th>\n",
              "      <th>1994</th>\n",
              "      <th>1995</th>\n",
              "      <th>1996</th>\n",
              "      <th>1997</th>\n",
              "      <th>1998</th>\n",
              "      <th>1999</th>\n",
              "      <th>2000</th>\n",
              "      <th>2001</th>\n",
              "      <th>2002</th>\n",
              "      <th>2003</th>\n",
              "      <th>2004</th>\n",
              "      <th>2005</th>\n",
              "      <th>2006</th>\n",
              "      <th>2007</th>\n",
              "      <th>2008</th>\n",
              "      <th>2009</th>\n",
              "      <th>2010</th>\n",
              "      <th>2011</th>\n",
              "      <th>2012</th>\n",
              "      <th>2013</th>\n",
              "      <th>2014</th>\n",
              "      <th>2015</th>\n",
              "      <th>2016</th>\n",
              "      <th>2017</th>\n",
              "      <th>2020</th>\n",
              "    </tr>\n",
              "  </thead>\n",
              "  <tbody>\n",
              "    <tr>\n",
              "      <th>0</th>\n",
              "      <td>Action</td>\n",
              "      <td>0.031250</td>\n",
              "      <td>0.414518</td>\n",
              "      <td>0.225069</td>\n",
              "      <td>0.170238</td>\n",
              "      <td>0.036743</td>\n",
              "      <td>0.065246</td>\n",
              "      <td>0.370550</td>\n",
              "      <td>0.051152</td>\n",
              "      <td>0.036857</td>\n",
              "      <td>0.063308</td>\n",
              "      <td>0.129431</td>\n",
              "      <td>0.209742</td>\n",
              "      <td>0.050433</td>\n",
              "      <td>0.039356</td>\n",
              "      <td>0.019566</td>\n",
              "      <td>0.040631</td>\n",
              "      <td>0.103658</td>\n",
              "      <td>0.137216</td>\n",
              "      <td>0.154446</td>\n",
              "      <td>0.110852</td>\n",
              "      <td>0.168155</td>\n",
              "      <td>0.172484</td>\n",
              "      <td>0.219885</td>\n",
              "      <td>0.190474</td>\n",
              "      <td>0.183906</td>\n",
              "      <td>0.186497</td>\n",
              "      <td>0.129232</td>\n",
              "      <td>0.173808</td>\n",
              "      <td>0.200263</td>\n",
              "      <td>0.207738</td>\n",
              "      <td>0.198711</td>\n",
              "      <td>0.231050</td>\n",
              "      <td>0.333628</td>\n",
              "      <td>0.354071</td>\n",
              "      <td>0.293711</td>\n",
              "      <td>0.260665</td>\n",
              "      <td>0.280090</td>\n",
              "      <td>0.2</td>\n",
              "      <td>0.0</td>\n",
              "    </tr>\n",
              "    <tr>\n",
              "      <th>1</th>\n",
              "      <td>Adventure</td>\n",
              "      <td>0.000000</td>\n",
              "      <td>0.000000</td>\n",
              "      <td>0.000000</td>\n",
              "      <td>0.023810</td>\n",
              "      <td>0.000000</td>\n",
              "      <td>0.000000</td>\n",
              "      <td>0.000000</td>\n",
              "      <td>0.201843</td>\n",
              "      <td>0.000000</td>\n",
              "      <td>0.000000</td>\n",
              "      <td>0.000000</td>\n",
              "      <td>0.069500</td>\n",
              "      <td>0.160757</td>\n",
              "      <td>0.001522</td>\n",
              "      <td>0.047210</td>\n",
              "      <td>0.008058</td>\n",
              "      <td>0.021034</td>\n",
              "      <td>0.024718</td>\n",
              "      <td>0.035427</td>\n",
              "      <td>0.030543</td>\n",
              "      <td>0.014687</td>\n",
              "      <td>0.027266</td>\n",
              "      <td>0.028091</td>\n",
              "      <td>0.005940</td>\n",
              "      <td>0.020842</td>\n",
              "      <td>0.018602</td>\n",
              "      <td>0.022313</td>\n",
              "      <td>0.040078</td>\n",
              "      <td>0.036827</td>\n",
              "      <td>0.031043</td>\n",
              "      <td>0.028023</td>\n",
              "      <td>0.030833</td>\n",
              "      <td>0.016293</td>\n",
              "      <td>0.018692</td>\n",
              "      <td>0.018066</td>\n",
              "      <td>0.030592</td>\n",
              "      <td>0.025540</td>\n",
              "      <td>0.0</td>\n",
              "      <td>0.0</td>\n",
              "    </tr>\n",
              "    <tr>\n",
              "      <th>2</th>\n",
              "      <td>Fighting</td>\n",
              "      <td>0.070772</td>\n",
              "      <td>0.000000</td>\n",
              "      <td>0.000000</td>\n",
              "      <td>0.000000</td>\n",
              "      <td>0.000000</td>\n",
              "      <td>0.019462</td>\n",
              "      <td>0.000000</td>\n",
              "      <td>0.249770</td>\n",
              "      <td>0.000000</td>\n",
              "      <td>0.000000</td>\n",
              "      <td>0.000000</td>\n",
              "      <td>0.012101</td>\n",
              "      <td>0.200026</td>\n",
              "      <td>0.190259</td>\n",
              "      <td>0.106917</td>\n",
              "      <td>0.168426</td>\n",
              "      <td>0.090776</td>\n",
              "      <td>0.058686</td>\n",
              "      <td>0.124153</td>\n",
              "      <td>0.057433</td>\n",
              "      <td>0.100526</td>\n",
              "      <td>0.055080</td>\n",
              "      <td>0.063237</td>\n",
              "      <td>0.066657</td>\n",
              "      <td>0.040476</td>\n",
              "      <td>0.042917</td>\n",
              "      <td>0.043790</td>\n",
              "      <td>0.028911</td>\n",
              "      <td>0.052350</td>\n",
              "      <td>0.048330</td>\n",
              "      <td>0.025164</td>\n",
              "      <td>0.042929</td>\n",
              "      <td>0.026318</td>\n",
              "      <td>0.020445</td>\n",
              "      <td>0.047909</td>\n",
              "      <td>0.029714</td>\n",
              "      <td>0.054325</td>\n",
              "      <td>0.0</td>\n",
              "      <td>0.0</td>\n",
              "    </tr>\n",
              "    <tr>\n",
              "      <th>3</th>\n",
              "      <td>Misc</td>\n",
              "      <td>0.248162</td>\n",
              "      <td>0.000000</td>\n",
              "      <td>0.030125</td>\n",
              "      <td>0.127381</td>\n",
              "      <td>0.028798</td>\n",
              "      <td>0.000000</td>\n",
              "      <td>0.000000</td>\n",
              "      <td>0.000000</td>\n",
              "      <td>0.000000</td>\n",
              "      <td>0.017427</td>\n",
              "      <td>0.000000</td>\n",
              "      <td>0.002482</td>\n",
              "      <td>0.064880</td>\n",
              "      <td>0.006523</td>\n",
              "      <td>0.036102</td>\n",
              "      <td>0.072523</td>\n",
              "      <td>0.053641</td>\n",
              "      <td>0.028249</td>\n",
              "      <td>0.046400</td>\n",
              "      <td>0.082999</td>\n",
              "      <td>0.077156</td>\n",
              "      <td>0.049877</td>\n",
              "      <td>0.039663</td>\n",
              "      <td>0.066657</td>\n",
              "      <td>0.075253</td>\n",
              "      <td>0.133309</td>\n",
              "      <td>0.130671</td>\n",
              "      <td>0.151326</td>\n",
              "      <td>0.127408</td>\n",
              "      <td>0.115493</td>\n",
              "      <td>0.149499</td>\n",
              "      <td>0.108283</td>\n",
              "      <td>0.063323</td>\n",
              "      <td>0.072562</td>\n",
              "      <td>0.070395</td>\n",
              "      <td>0.044533</td>\n",
              "      <td>0.016227</td>\n",
              "      <td>0.0</td>\n",
              "      <td>0.0</td>\n",
              "    </tr>\n",
              "    <tr>\n",
              "      <th>4</th>\n",
              "      <td>Platform</td>\n",
              "      <td>0.000000</td>\n",
              "      <td>0.193946</td>\n",
              "      <td>0.174169</td>\n",
              "      <td>0.412500</td>\n",
              "      <td>0.013704</td>\n",
              "      <td>0.800185</td>\n",
              "      <td>0.253236</td>\n",
              "      <td>0.080184</td>\n",
              "      <td>0.587376</td>\n",
              "      <td>0.281280</td>\n",
              "      <td>0.465465</td>\n",
              "      <td>0.236736</td>\n",
              "      <td>0.176123</td>\n",
              "      <td>0.406175</td>\n",
              "      <td>0.363040</td>\n",
              "      <td>0.189422</td>\n",
              "      <td>0.142052</td>\n",
              "      <td>0.108718</td>\n",
              "      <td>0.116902</td>\n",
              "      <td>0.083480</td>\n",
              "      <td>0.079637</td>\n",
              "      <td>0.119686</td>\n",
              "      <td>0.116604</td>\n",
              "      <td>0.119978</td>\n",
              "      <td>0.114328</td>\n",
              "      <td>0.049743</td>\n",
              "      <td>0.096599</td>\n",
              "      <td>0.058264</td>\n",
              "      <td>0.052705</td>\n",
              "      <td>0.061501</td>\n",
              "      <td>0.054083</td>\n",
              "      <td>0.054598</td>\n",
              "      <td>0.051255</td>\n",
              "      <td>0.070950</td>\n",
              "      <td>0.026313</td>\n",
              "      <td>0.023107</td>\n",
              "      <td>0.029350</td>\n",
              "      <td>0.0</td>\n",
              "      <td>0.0</td>\n",
              "    </tr>\n",
              "    <tr>\n",
              "      <th>5</th>\n",
              "      <td>Puzzle</td>\n",
              "      <td>0.000000</td>\n",
              "      <td>0.063061</td>\n",
              "      <td>0.347645</td>\n",
              "      <td>0.046429</td>\n",
              "      <td>0.062363</td>\n",
              "      <td>0.059500</td>\n",
              "      <td>0.000000</td>\n",
              "      <td>0.000000</td>\n",
              "      <td>0.118195</td>\n",
              "      <td>0.513955</td>\n",
              "      <td>0.121329</td>\n",
              "      <td>0.100527</td>\n",
              "      <td>0.063567</td>\n",
              "      <td>0.068928</td>\n",
              "      <td>0.019313</td>\n",
              "      <td>0.030530</td>\n",
              "      <td>0.019725</td>\n",
              "      <td>0.029194</td>\n",
              "      <td>0.024885</td>\n",
              "      <td>0.005378</td>\n",
              "      <td>0.019004</td>\n",
              "      <td>0.024162</td>\n",
              "      <td>0.013526</td>\n",
              "      <td>0.004791</td>\n",
              "      <td>0.020311</td>\n",
              "      <td>0.044182</td>\n",
              "      <td>0.020972</td>\n",
              "      <td>0.038996</td>\n",
              "      <td>0.022959</td>\n",
              "      <td>0.030458</td>\n",
              "      <td>0.018856</td>\n",
              "      <td>0.009902</td>\n",
              "      <td>0.004805</td>\n",
              "      <td>0.002828</td>\n",
              "      <td>0.004479</td>\n",
              "      <td>0.002635</td>\n",
              "      <td>0.000000</td>\n",
              "      <td>0.0</td>\n",
              "      <td>0.0</td>\n",
              "    </tr>\n",
              "    <tr>\n",
              "      <th>6</th>\n",
              "      <td>Racing</td>\n",
              "      <td>0.000000</td>\n",
              "      <td>0.013453</td>\n",
              "      <td>0.054363</td>\n",
              "      <td>0.000000</td>\n",
              "      <td>0.118173</td>\n",
              "      <td>0.000000</td>\n",
              "      <td>0.052859</td>\n",
              "      <td>0.000000</td>\n",
              "      <td>0.045329</td>\n",
              "      <td>0.000000</td>\n",
              "      <td>0.126595</td>\n",
              "      <td>0.035371</td>\n",
              "      <td>0.118860</td>\n",
              "      <td>0.007828</td>\n",
              "      <td>0.027518</td>\n",
              "      <td>0.069118</td>\n",
              "      <td>0.140140</td>\n",
              "      <td>0.158751</td>\n",
              "      <td>0.104950</td>\n",
              "      <td>0.149262</td>\n",
              "      <td>0.099236</td>\n",
              "      <td>0.169897</td>\n",
              "      <td>0.076509</td>\n",
              "      <td>0.146203</td>\n",
              "      <td>0.110150</td>\n",
              "      <td>0.122994</td>\n",
              "      <td>0.066200</td>\n",
              "      <td>0.063872</td>\n",
              "      <td>0.104567</td>\n",
              "      <td>0.051198</td>\n",
              "      <td>0.059072</td>\n",
              "      <td>0.067898</td>\n",
              "      <td>0.039850</td>\n",
              "      <td>0.036818</td>\n",
              "      <td>0.049570</td>\n",
              "      <td>0.030249</td>\n",
              "      <td>0.023564</td>\n",
              "      <td>0.0</td>\n",
              "      <td>0.0</td>\n",
              "    </tr>\n",
              "    <tr>\n",
              "      <th>7</th>\n",
              "      <td>Role-Playing</td>\n",
              "      <td>0.000000</td>\n",
              "      <td>0.000000</td>\n",
              "      <td>0.000000</td>\n",
              "      <td>0.000000</td>\n",
              "      <td>0.000000</td>\n",
              "      <td>0.000000</td>\n",
              "      <td>0.067961</td>\n",
              "      <td>0.214286</td>\n",
              "      <td>0.124550</td>\n",
              "      <td>0.029952</td>\n",
              "      <td>0.091554</td>\n",
              "      <td>0.101148</td>\n",
              "      <td>0.090097</td>\n",
              "      <td>0.121548</td>\n",
              "      <td>0.090003</td>\n",
              "      <td>0.161957</td>\n",
              "      <td>0.221356</td>\n",
              "      <td>0.108519</td>\n",
              "      <td>0.110083</td>\n",
              "      <td>0.189597</td>\n",
              "      <td>0.144091</td>\n",
              "      <td>0.067010</td>\n",
              "      <td>0.114421</td>\n",
              "      <td>0.084870</td>\n",
              "      <td>0.130292</td>\n",
              "      <td>0.062173</td>\n",
              "      <td>0.100661</td>\n",
              "      <td>0.071924</td>\n",
              "      <td>0.088245</td>\n",
              "      <td>0.072029</td>\n",
              "      <td>0.119328</td>\n",
              "      <td>0.103526</td>\n",
              "      <td>0.131921</td>\n",
              "      <td>0.086361</td>\n",
              "      <td>0.136132</td>\n",
              "      <td>0.139136</td>\n",
              "      <td>0.095245</td>\n",
              "      <td>0.8</td>\n",
              "      <td>0.0</td>\n",
              "    </tr>\n",
              "    <tr>\n",
              "      <th>8</th>\n",
              "      <td>Shooter</td>\n",
              "      <td>0.649816</td>\n",
              "      <td>0.280830</td>\n",
              "      <td>0.131925</td>\n",
              "      <td>0.029167</td>\n",
              "      <td>0.617676</td>\n",
              "      <td>0.018536</td>\n",
              "      <td>0.104908</td>\n",
              "      <td>0.031797</td>\n",
              "      <td>0.010803</td>\n",
              "      <td>0.016201</td>\n",
              "      <td>0.000000</td>\n",
              "      <td>0.061744</td>\n",
              "      <td>0.003677</td>\n",
              "      <td>0.066971</td>\n",
              "      <td>0.104772</td>\n",
              "      <td>0.047100</td>\n",
              "      <td>0.034720</td>\n",
              "      <td>0.110210</td>\n",
              "      <td>0.038406</td>\n",
              "      <td>0.049085</td>\n",
              "      <td>0.033889</td>\n",
              "      <td>0.075500</td>\n",
              "      <td>0.120892</td>\n",
              "      <td>0.075932</td>\n",
              "      <td>0.113314</td>\n",
              "      <td>0.090653</td>\n",
              "      <td>0.074538</td>\n",
              "      <td>0.116233</td>\n",
              "      <td>0.087979</td>\n",
              "      <td>0.104890</td>\n",
              "      <td>0.130963</td>\n",
              "      <td>0.192898</td>\n",
              "      <td>0.201154</td>\n",
              "      <td>0.177389</td>\n",
              "      <td>0.195758</td>\n",
              "      <td>0.252530</td>\n",
              "      <td>0.256385</td>\n",
              "      <td>0.0</td>\n",
              "      <td>0.0</td>\n",
              "    </tr>\n",
              "    <tr>\n",
              "      <th>9</th>\n",
              "      <td>Simulation</td>\n",
              "      <td>0.000000</td>\n",
              "      <td>0.012332</td>\n",
              "      <td>0.000000</td>\n",
              "      <td>0.000000</td>\n",
              "      <td>0.000000</td>\n",
              "      <td>0.000741</td>\n",
              "      <td>0.000000</td>\n",
              "      <td>0.000000</td>\n",
              "      <td>0.000635</td>\n",
              "      <td>0.000000</td>\n",
              "      <td>0.022888</td>\n",
              "      <td>0.066708</td>\n",
              "      <td>0.028106</td>\n",
              "      <td>0.004131</td>\n",
              "      <td>0.034335</td>\n",
              "      <td>0.047327</td>\n",
              "      <td>0.057012</td>\n",
              "      <td>0.047944</td>\n",
              "      <td>0.027864</td>\n",
              "      <td>0.045995</td>\n",
              "      <td>0.016721</td>\n",
              "      <td>0.059463</td>\n",
              "      <td>0.027457</td>\n",
              "      <td>0.059428</td>\n",
              "      <td>0.026300</td>\n",
              "      <td>0.107467</td>\n",
              "      <td>0.042235</td>\n",
              "      <td>0.080107</td>\n",
              "      <td>0.068597</td>\n",
              "      <td>0.050387</td>\n",
              "      <td>0.037307</td>\n",
              "      <td>0.029765</td>\n",
              "      <td>0.036922</td>\n",
              "      <td>0.024545</td>\n",
              "      <td>0.016434</td>\n",
              "      <td>0.021426</td>\n",
              "      <td>0.005503</td>\n",
              "      <td>0.0</td>\n",
              "      <td>1.0</td>\n",
              "    </tr>\n",
              "    <tr>\n",
              "      <th>10</th>\n",
              "      <td>Sports</td>\n",
              "      <td>0.000000</td>\n",
              "      <td>0.021861</td>\n",
              "      <td>0.036704</td>\n",
              "      <td>0.190476</td>\n",
              "      <td>0.122542</td>\n",
              "      <td>0.036330</td>\n",
              "      <td>0.150485</td>\n",
              "      <td>0.170968</td>\n",
              "      <td>0.076255</td>\n",
              "      <td>0.077876</td>\n",
              "      <td>0.042739</td>\n",
              "      <td>0.074775</td>\n",
              "      <td>0.038744</td>\n",
              "      <td>0.069145</td>\n",
              "      <td>0.106160</td>\n",
              "      <td>0.090682</td>\n",
              "      <td>0.087657</td>\n",
              "      <td>0.149401</td>\n",
              "      <td>0.163616</td>\n",
              "      <td>0.121247</td>\n",
              "      <td>0.204624</td>\n",
              "      <td>0.156629</td>\n",
              "      <td>0.165732</td>\n",
              "      <td>0.156795</td>\n",
              "      <td>0.147584</td>\n",
              "      <td>0.129819</td>\n",
              "      <td>0.264568</td>\n",
              "      <td>0.161099</td>\n",
              "      <td>0.140802</td>\n",
              "      <td>0.208143</td>\n",
              "      <td>0.155621</td>\n",
              "      <td>0.110788</td>\n",
              "      <td>0.085333</td>\n",
              "      <td>0.117467</td>\n",
              "      <td>0.138357</td>\n",
              "      <td>0.158462</td>\n",
              "      <td>0.206434</td>\n",
              "      <td>0.0</td>\n",
              "      <td>0.0</td>\n",
              "    </tr>\n",
              "    <tr>\n",
              "      <th>11</th>\n",
              "      <td>Strategy</td>\n",
              "      <td>0.000000</td>\n",
              "      <td>0.000000</td>\n",
              "      <td>0.000000</td>\n",
              "      <td>0.000000</td>\n",
              "      <td>0.000000</td>\n",
              "      <td>0.000000</td>\n",
              "      <td>0.000000</td>\n",
              "      <td>0.000000</td>\n",
              "      <td>0.000000</td>\n",
              "      <td>0.000000</td>\n",
              "      <td>0.000000</td>\n",
              "      <td>0.029165</td>\n",
              "      <td>0.004728</td>\n",
              "      <td>0.017613</td>\n",
              "      <td>0.045064</td>\n",
              "      <td>0.074225</td>\n",
              "      <td>0.028229</td>\n",
              "      <td>0.038395</td>\n",
              "      <td>0.052867</td>\n",
              "      <td>0.074129</td>\n",
              "      <td>0.042274</td>\n",
              "      <td>0.022945</td>\n",
              "      <td>0.013982</td>\n",
              "      <td>0.022275</td>\n",
              "      <td>0.017243</td>\n",
              "      <td>0.011645</td>\n",
              "      <td>0.008222</td>\n",
              "      <td>0.015382</td>\n",
              "      <td>0.017297</td>\n",
              "      <td>0.018788</td>\n",
              "      <td>0.023372</td>\n",
              "      <td>0.017533</td>\n",
              "      <td>0.009196</td>\n",
              "      <td>0.017872</td>\n",
              "      <td>0.002877</td>\n",
              "      <td>0.006951</td>\n",
              "      <td>0.007337</td>\n",
              "      <td>0.0</td>\n",
              "      <td>0.0</td>\n",
              "    </tr>\n",
              "  </tbody>\n",
              "</table>\n",
              "</div>"
            ],
            "text/plain": [
              "Year         Genre      1980      1981  ...      2016  2017  2020\n",
              "0           Action  0.031250  0.414518  ...  0.280090   0.2   0.0\n",
              "1        Adventure  0.000000  0.000000  ...  0.025540   0.0   0.0\n",
              "2         Fighting  0.070772  0.000000  ...  0.054325   0.0   0.0\n",
              "3             Misc  0.248162  0.000000  ...  0.016227   0.0   0.0\n",
              "4         Platform  0.000000  0.193946  ...  0.029350   0.0   0.0\n",
              "5           Puzzle  0.000000  0.063061  ...  0.000000   0.0   0.0\n",
              "6           Racing  0.000000  0.013453  ...  0.023564   0.0   0.0\n",
              "7     Role-Playing  0.000000  0.000000  ...  0.095245   0.8   0.0\n",
              "8          Shooter  0.649816  0.280830  ...  0.256385   0.0   0.0\n",
              "9       Simulation  0.000000  0.012332  ...  0.005503   0.0   1.0\n",
              "10          Sports  0.000000  0.021861  ...  0.206434   0.0   0.0\n",
              "11        Strategy  0.000000  0.000000  ...  0.007337   0.0   0.0\n",
              "\n",
              "[12 rows x 40 columns]"
            ]
          },
          "metadata": {
            "tags": []
          },
          "execution_count": 40
        }
      ]
    },
    {
      "cell_type": "code",
      "metadata": {
        "id": "b7BQCPurQLy_"
      },
      "source": [
        "#2017과 2020은 데이터가 매우 적어 삭제\n",
        "genre_years=genre_years.drop(2017,axis=1)\n",
        "genre_years=genre_years.drop(2020,axis=1)"
      ],
      "execution_count": null,
      "outputs": []
    },
    {
      "cell_type": "code",
      "metadata": {
        "id": "hHhBv_kMNZkL"
      },
      "source": [
        "genre_years=genre_years.melt(id_vars='Genre')"
      ],
      "execution_count": null,
      "outputs": []
    },
    {
      "cell_type": "code",
      "metadata": {
        "colab": {
          "base_uri": "https://localhost:8080/",
          "height": 388
        },
        "id": "C6Yuw4aqIvHj",
        "outputId": "1642c7a8-3a15-48ae-c57f-ec32b12b58ce"
      },
      "source": [
        "\n",
        "fig,ax=plt.subplots(figsize=(15,6))\n",
        "sns.set_style(\"whitegrid\")\n",
        "sns.despine(left=True, bottom=True) #테두리 제거\n",
        "sns.lineplot(x='Year',y='value',hue='Genre',data=genre_years,palette='Paired', lw=3)\n",
        "plt.legend(loc='upper right')\n",
        "plt.show()"
      ],
      "execution_count": null,
      "outputs": [
        {
          "output_type": "display_data",
          "data": {
            "image/png": "[encoded data removed]",
            "text/plain": [
              "<Figure size 1080x432 with 1 Axes>"
            ]
          },
          "metadata": {
            "tags": [],
            "needs_background": "light"
          }
        }
      ]
    },
    {
      "cell_type": "markdown",
      "metadata": {
        "id": "K_WoOjOcN_sH"
      },
      "source": [
        "\n",
        "\n",
        "*   1980~1990에는 Action,Shooter,Platform,Puzzle이 인기가 많았고 특히 Platform 장르가 인기가 많았다.\n",
        "*   1990~2000에도 마찬가지로 Platfome,Puzzle 장르가 인기가 많았다.\n",
        "*   2000~2010에는 대체적으로 장르별 인기도가 비슷했다.\n",
        "*   2010년도 이후에는 Action, Shooter 장르가 인기가 많았다.\n",
        "*   2017년도 이후의 데이터는 매우 적어 고려하지않는다.\n",
        "\n"
      ]
    },
    {
      "cell_type": "markdown",
      "metadata": {
        "id": "ROmFonbaEJkw"
      },
      "source": [
        "## **2-2.연도별 게임 플랫폼 선호도(회사)**\n",
        "데이터에 존재하는 플랫폼의 종류는 총 31가지로 이를 다 분석하기는 어려우므로 데이터전처리단계에서 진행했던 플랫폼의 용도(가정용/휴대용)와 회사에 따라 선호도를 확인해본다."
      ]
    },
    {
      "cell_type": "code",
      "metadata": {
        "id": "hnjZ5d_7RCsC"
      },
      "source": [
        "df_com=df.groupby(['Year','P_Company']).sum()\n",
        "df_com.reset_index(inplace=True)\n",
        "df_com['Year']=df_com['Year'].apply(toint)"
      ],
      "execution_count": null,
      "outputs": []
    },
    {
      "cell_type": "code",
      "metadata": {
        "colab": {
          "base_uri": "https://localhost:8080/",
          "height": 419
        },
        "id": "Mi-Yj1KBSKLm",
        "outputId": "0fd10c33-5f8c-46bb-95da-58d5311ae995"
      },
      "source": [
        "genre_com=pd.crosstab(df_com['Year'],df_com['P_Company'],values=df_com['t_Sales'],aggfunc='sum').fillna(0)\n",
        "genre_com['sum']=genre_com.sum(axis=1) #총액\n",
        "\n",
        "#총액/본인값\n",
        "for i in genre_com.columns:\n",
        "  genre_com[i]=genre_com[i]/genre_com['sum']\n",
        "genre_com=genre_com.drop('sum',axis=1)\n",
        "genre_com=genre_com.T\n",
        "genre_com.reset_index(inplace=True)\n",
        "\n",
        "#2017과 2020은 데이터가 매우 적어 삭제\n",
        "genre_com=genre_com.drop(2017,axis=1)\n",
        "genre_com=genre_com.drop(2020,axis=1)\n",
        "\n",
        "genre_com=genre_com.melt(id_vars='P_Company')\n",
        "genre_com"
      ],
      "execution_count": null,
      "outputs": [
        {
          "output_type": "execute_result",
          "data": {
            "text/html": [
              "<div>\n",
              "<style scoped>\n",
              "    .dataframe tbody tr th:only-of-type {\n",
              "        vertical-align: middle;\n",
              "    }\n",
              "\n",
              "    .dataframe tbody tr th {\n",
              "        vertical-align: top;\n",
              "    }\n",
              "\n",
              "    .dataframe thead th {\n",
              "        text-align: right;\n",
              "    }\n",
              "</style>\n",
              "<table border=\"1\" class=\"dataframe\">\n",
              "  <thead>\n",
              "    <tr style=\"text-align: right;\">\n",
              "      <th></th>\n",
              "      <th>P_Company</th>\n",
              "      <th>Year</th>\n",
              "      <th>value</th>\n",
              "    </tr>\n",
              "  </thead>\n",
              "  <tbody>\n",
              "    <tr>\n",
              "      <th>0</th>\n",
              "      <td>3DO</td>\n",
              "      <td>1980</td>\n",
              "      <td>0.000000</td>\n",
              "    </tr>\n",
              "    <tr>\n",
              "      <th>1</th>\n",
              "      <td>Atari</td>\n",
              "      <td>1980</td>\n",
              "      <td>1.000000</td>\n",
              "    </tr>\n",
              "    <tr>\n",
              "      <th>2</th>\n",
              "      <td>Bandai</td>\n",
              "      <td>1980</td>\n",
              "      <td>0.000000</td>\n",
              "    </tr>\n",
              "    <tr>\n",
              "      <th>3</th>\n",
              "      <td>Microsoft</td>\n",
              "      <td>1980</td>\n",
              "      <td>0.000000</td>\n",
              "    </tr>\n",
              "    <tr>\n",
              "      <th>4</th>\n",
              "      <td>Nec</td>\n",
              "      <td>1980</td>\n",
              "      <td>0.000000</td>\n",
              "    </tr>\n",
              "    <tr>\n",
              "      <th>...</th>\n",
              "      <td>...</td>\n",
              "      <td>...</td>\n",
              "      <td>...</td>\n",
              "    </tr>\n",
              "    <tr>\n",
              "      <th>365</th>\n",
              "      <td>Nintendo</td>\n",
              "      <td>2016</td>\n",
              "      <td>0.138705</td>\n",
              "    </tr>\n",
              "    <tr>\n",
              "      <th>366</th>\n",
              "      <td>PC</td>\n",
              "      <td>2016</td>\n",
              "      <td>0.036687</td>\n",
              "    </tr>\n",
              "    <tr>\n",
              "      <th>367</th>\n",
              "      <td>SNK</td>\n",
              "      <td>2016</td>\n",
              "      <td>0.000000</td>\n",
              "    </tr>\n",
              "    <tr>\n",
              "      <th>368</th>\n",
              "      <td>Sega</td>\n",
              "      <td>2016</td>\n",
              "      <td>0.000000</td>\n",
              "    </tr>\n",
              "    <tr>\n",
              "      <th>369</th>\n",
              "      <td>Sony</td>\n",
              "      <td>2016</td>\n",
              "      <td>0.638211</td>\n",
              "    </tr>\n",
              "  </tbody>\n",
              "</table>\n",
              "<p>370 rows × 3 columns</p>\n",
              "</div>"
            ],
            "text/plain": [
              "     P_Company  Year     value\n",
              "0          3DO  1980  0.000000\n",
              "1        Atari  1980  1.000000\n",
              "2       Bandai  1980  0.000000\n",
              "3    Microsoft  1980  0.000000\n",
              "4          Nec  1980  0.000000\n",
              "..         ...   ...       ...\n",
              "365   Nintendo  2016  0.138705\n",
              "366         PC  2016  0.036687\n",
              "367        SNK  2016  0.000000\n",
              "368       Sega  2016  0.000000\n",
              "369       Sony  2016  0.638211\n",
              "\n",
              "[370 rows x 3 columns]"
            ]
          },
          "metadata": {
            "tags": []
          },
          "execution_count": 45
        }
      ]
    },
    {
      "cell_type": "code",
      "metadata": {
        "colab": {
          "base_uri": "https://localhost:8080/",
          "height": 406
        },
        "id": "zrr8I-DZTFAp",
        "outputId": "d29955c0-cbf1-4135-ba5c-30f8095f5fba"
      },
      "source": [
        "plt.figure(figsize=(15,6))\n",
        "sns.lineplot(x='Year',y='value',hue='P_Company',data=genre_com,palette='Paired', lw=3)"
      ],
      "execution_count": null,
      "outputs": [
        {
          "output_type": "execute_result",
          "data": {
            "text/plain": [
              "<matplotlib.axes._subplots.AxesSubplot at 0x7f0c32c01590>"
            ]
          },
          "metadata": {
            "tags": []
          },
          "execution_count": 46
        },
        {
          "output_type": "display_data",
          "data": {
            "image/png": "[encoded data removed]",
            "text/plain": [
              "<Figure size 1080x432 with 1 Axes>"
            ]
          },
          "metadata": {
            "tags": []
          }
        }
      ]
    },
    {
      "cell_type": "markdown",
      "metadata": {
        "id": "FUvLKdixVSUQ"
      },
      "source": [
        "\n",
        "\n",
        "*   1980년대 초반에는 Atari회사의 플랫폼이 매출을 독점하였으나 Nintendo사가 들어오면서 급격히 하락하였다.\n",
        "*   NES가 출시된 1983년 이후 닌텐도사가 10년동안 플랫폼을 거의 독점하였다.\n",
        "*   1994년 소니에서 플레이스테이션이 출시된 이후 소니가 닌텐도사를 앞질렀다.\n",
        "*   2001년도 마이크로소프트에서 XBox를 출시하여 조금씩 파이를 늘려가 2010년에는 닌텐도,소니,마이크로소프트 3사가 비슷한 매출을 기록하였다.\n",
        "*   2010년 이후에는 다시 소니가 앞서고있고 그 뒤를 마이크로소프트가 따라가고있다.\n",
        "\n"
      ]
    },
    {
      "cell_type": "markdown",
      "metadata": {
        "id": "UZsYDXU39RtL"
      },
      "source": [
        "**추가적으로 소니사의 플랫폼과 마이크로소프트사의 플랫폼들 중 최근 가장 판매량이 높은 플랫폼이 무엇인지 확인해보자.**"
      ]
    },
    {
      "cell_type": "code",
      "metadata": {
        "id": "faD0H-LM9Qv4"
      },
      "source": [
        "df_p=df.groupby(['Year','Platform']).sum()\n",
        "df_p.reset_index(inplace=True)\n",
        "df_p['Year']=df_p['Year'].apply(toint)\n",
        "df_p=df_p[df_p['Platform'].isin(['XB','X360','Xone'])]"
      ],
      "execution_count": null,
      "outputs": []
    },
    {
      "cell_type": "code",
      "metadata": {
        "id": "yU4RQeAw-eJE"
      },
      "source": [
        "genre_p=pd.crosstab(df_p['Year'],df_p['Platform'],values=df_p['t_Sales'],aggfunc='sum').fillna(0)\n",
        "genre_p['sum']=genre_p.sum(axis=1) #총액\n",
        "\n",
        "#총액/본인값\n",
        "for i in genre_p.columns:\n",
        "  genre_p[i]=genre_p[i]/genre_p['sum']\n",
        "genre_p=genre_p.drop('sum',axis=1)\n",
        "genre_p=genre_p.T\n",
        "genre_p.reset_index(inplace=True)\n",
        "\n",
        "\n",
        "genre_p=genre_p.melt(id_vars='Platform')"
      ],
      "execution_count": null,
      "outputs": []
    },
    {
      "cell_type": "code",
      "metadata": {
        "colab": {
          "base_uri": "https://localhost:8080/",
          "height": 406
        },
        "id": "ijyV7jDF-3fK",
        "outputId": "9ab2c780-ea50-4076-b3c0-969fbbd11586"
      },
      "source": [
        "plt.figure(figsize=(15,6))\n",
        "sns.lineplot(x='Year',y='value',hue='Platform',data=genre_p,palette='Paired', lw=3)"
      ],
      "execution_count": null,
      "outputs": [
        {
          "output_type": "execute_result",
          "data": {
            "text/plain": [
              "<matplotlib.axes._subplots.AxesSubplot at 0x7f0c3317c690>"
            ]
          },
          "metadata": {
            "tags": []
          },
          "execution_count": 49
        },
        {
          "output_type": "display_data",
          "data": {
            "image/png": "[encoded data removed]",
            "text/plain": [
              "<Figure size 1080x432 with 1 Axes>"
            ]
          },
          "metadata": {
            "tags": []
          }
        }
      ]
    },
    {
      "cell_type": "code",
      "metadata": {
        "id": "zCRCyaA2--3A"
      },
      "source": [
        "df_p2=df.groupby(['Year','Platform']).sum()\n",
        "df_p2.reset_index(inplace=True)\n",
        "df_p2['Year']=df_p2['Year'].apply(toint)\n",
        "df_p2=df_p2[df_p2['Platform'].isin(['PSP','PSV','PS','PS2','PS3','PS4'])]"
      ],
      "execution_count": null,
      "outputs": []
    },
    {
      "cell_type": "code",
      "metadata": {
        "colab": {
          "base_uri": "https://localhost:8080/",
          "height": 419
        },
        "id": "ZoPGyxU7_BJs",
        "outputId": "8189acf8-f7ef-4512-97b3-e9928400027a"
      },
      "source": [
        "genre_p2=pd.crosstab(df_p2['Year'],df_p2['Platform'],values=df_p2['t_Sales'],aggfunc='sum').fillna(0)\n",
        "genre_p2['sum']=genre_p2.sum(axis=1) #총액\n",
        "\n",
        "#총액/본인값\n",
        "for i in genre_p2.columns:\n",
        "  genre_p2[i]=genre_p2[i]/genre_p2['sum']\n",
        "genre_p2=genre_p2.drop('sum',axis=1)\n",
        "genre_p2=genre_p2.T\n",
        "genre_p2.reset_index(inplace=True)\n",
        "\n",
        "#2017은 데이터가 매우 적어 삭제\n",
        "genre_p2=genre_p2.drop(2017,axis=1)\n",
        "\n",
        "genre_p2=genre_p2.melt(id_vars='Platform')\n",
        "genre_p2"
      ],
      "execution_count": null,
      "outputs": [
        {
          "output_type": "execute_result",
          "data": {
            "text/html": [
              "<div>\n",
              "<style scoped>\n",
              "    .dataframe tbody tr th:only-of-type {\n",
              "        vertical-align: middle;\n",
              "    }\n",
              "\n",
              "    .dataframe tbody tr th {\n",
              "        vertical-align: top;\n",
              "    }\n",
              "\n",
              "    .dataframe thead th {\n",
              "        text-align: right;\n",
              "    }\n",
              "</style>\n",
              "<table border=\"1\" class=\"dataframe\">\n",
              "  <thead>\n",
              "    <tr style=\"text-align: right;\">\n",
              "      <th></th>\n",
              "      <th>Platform</th>\n",
              "      <th>Year</th>\n",
              "      <th>value</th>\n",
              "    </tr>\n",
              "  </thead>\n",
              "  <tbody>\n",
              "    <tr>\n",
              "      <th>0</th>\n",
              "      <td>PS</td>\n",
              "      <td>1994</td>\n",
              "      <td>1.000000</td>\n",
              "    </tr>\n",
              "    <tr>\n",
              "      <th>1</th>\n",
              "      <td>PS2</td>\n",
              "      <td>1994</td>\n",
              "      <td>0.000000</td>\n",
              "    </tr>\n",
              "    <tr>\n",
              "      <th>2</th>\n",
              "      <td>PS3</td>\n",
              "      <td>1994</td>\n",
              "      <td>0.000000</td>\n",
              "    </tr>\n",
              "    <tr>\n",
              "      <th>3</th>\n",
              "      <td>PS4</td>\n",
              "      <td>1994</td>\n",
              "      <td>0.000000</td>\n",
              "    </tr>\n",
              "    <tr>\n",
              "      <th>4</th>\n",
              "      <td>PSP</td>\n",
              "      <td>1994</td>\n",
              "      <td>0.000000</td>\n",
              "    </tr>\n",
              "    <tr>\n",
              "      <th>...</th>\n",
              "      <td>...</td>\n",
              "      <td>...</td>\n",
              "      <td>...</td>\n",
              "    </tr>\n",
              "    <tr>\n",
              "      <th>133</th>\n",
              "      <td>PS2</td>\n",
              "      <td>2016</td>\n",
              "      <td>0.000000</td>\n",
              "    </tr>\n",
              "    <tr>\n",
              "      <th>134</th>\n",
              "      <td>PS3</td>\n",
              "      <td>2016</td>\n",
              "      <td>0.056379</td>\n",
              "    </tr>\n",
              "    <tr>\n",
              "      <th>135</th>\n",
              "      <td>PS4</td>\n",
              "      <td>2016</td>\n",
              "      <td>0.868892</td>\n",
              "    </tr>\n",
              "    <tr>\n",
              "      <th>136</th>\n",
              "      <td>PSP</td>\n",
              "      <td>2016</td>\n",
              "      <td>0.000000</td>\n",
              "    </tr>\n",
              "    <tr>\n",
              "      <th>137</th>\n",
              "      <td>PSV</td>\n",
              "      <td>2016</td>\n",
              "      <td>0.074729</td>\n",
              "    </tr>\n",
              "  </tbody>\n",
              "</table>\n",
              "<p>138 rows × 3 columns</p>\n",
              "</div>"
            ],
            "text/plain": [
              "    Platform  Year     value\n",
              "0         PS  1994  1.000000\n",
              "1        PS2  1994  0.000000\n",
              "2        PS3  1994  0.000000\n",
              "3        PS4  1994  0.000000\n",
              "4        PSP  1994  0.000000\n",
              "..       ...   ...       ...\n",
              "133      PS2  2016  0.000000\n",
              "134      PS3  2016  0.056379\n",
              "135      PS4  2016  0.868892\n",
              "136      PSP  2016  0.000000\n",
              "137      PSV  2016  0.074729\n",
              "\n",
              "[138 rows x 3 columns]"
            ]
          },
          "metadata": {
            "tags": []
          },
          "execution_count": 51
        }
      ]
    },
    {
      "cell_type": "code",
      "metadata": {
        "colab": {
          "base_uri": "https://localhost:8080/",
          "height": 406
        },
        "id": "NAX8QBVz_Bpw",
        "outputId": "755dbff5-3b8c-47b6-bbe8-993478254d05"
      },
      "source": [
        "plt.figure(figsize=(15,6))\n",
        "sns.lineplot(x='Year',y='value',hue='Platform',data=genre_p2,palette='Paired', lw=3)"
      ],
      "execution_count": null,
      "outputs": [
        {
          "output_type": "execute_result",
          "data": {
            "text/plain": [
              "<matplotlib.axes._subplots.AxesSubplot at 0x7f0c32bdd150>"
            ]
          },
          "metadata": {
            "tags": []
          },
          "execution_count": 52
        },
        {
          "output_type": "display_data",
          "data": {
            "image/png": "[encoded data removed]",
            "text/plain": [
              "<Figure size 1080x432 with 1 Axes>"
            ]
          },
          "metadata": {
            "tags": []
          }
        }
      ]
    },
    {
      "cell_type": "markdown",
      "metadata": {
        "id": "iOuDst6r_4V9"
      },
      "source": [
        "최근기준 소니사의 주력 상품은 PS3,PS4이고 마이크로소프트사의 주력 상품은 X360임을 확인할 수 있다."
      ]
    },
    {
      "cell_type": "markdown",
      "metadata": {
        "id": "iMoGuNhTT1IB"
      },
      "source": [
        "## **2-3.연도별 게임 플랫폼 선호도(용도)**"
      ]
    },
    {
      "cell_type": "code",
      "metadata": {
        "id": "aZEmaE8PTzCH",
        "colab": {
          "base_uri": "https://localhost:8080/",
          "height": 358
        },
        "outputId": "0b52aac3-c727-4aaa-c28a-1739cef60f03"
      },
      "source": [
        "df_com2=df.groupby(['Year','Use']).sum()\n",
        "df_com2.reset_index(inplace=True)\n",
        "df_com2['Year']=df_com2['Year'].apply(toint)"
      ],
      "execution_count": null,
      "outputs": [
        {
          "output_type": "error",
          "ename": "KeyError",
          "evalue": "ignored",
          "traceback": [
            "\u001b[0;31m---------------------------------------------------------------------------\u001b[0m",
            "\u001b[0;31mKeyError\u001b[0m                                  Traceback (most recent call last)",
            "\u001b[0;32m<ipython-input-53-99c33dc6bacf>\u001b[0m in \u001b[0;36m<module>\u001b[0;34m()\u001b[0m\n\u001b[0;32m----> 1\u001b[0;31m \u001b[0mdf_com2\u001b[0m\u001b[0;34m=\u001b[0m\u001b[0mdf\u001b[0m\u001b[0;34m.\u001b[0m\u001b[0mgroupby\u001b[0m\u001b[0;34m(\u001b[0m\u001b[0;34m[\u001b[0m\u001b[0;34m'Year'\u001b[0m\u001b[0;34m,\u001b[0m\u001b[0;34m'Use'\u001b[0m\u001b[0;34m]\u001b[0m\u001b[0;34m)\u001b[0m\u001b[0;34m.\u001b[0m\u001b[0msum\u001b[0m\u001b[0;34m(\u001b[0m\u001b[0;34m)\u001b[0m\u001b[0;34m\u001b[0m\u001b[0;34m\u001b[0m\u001b[0m\n\u001b[0m\u001b[1;32m      2\u001b[0m \u001b[0mdf_com2\u001b[0m\u001b[0;34m.\u001b[0m\u001b[0mreset_index\u001b[0m\u001b[0;34m(\u001b[0m\u001b[0minplace\u001b[0m\u001b[0;34m=\u001b[0m\u001b[0;32mTrue\u001b[0m\u001b[0;34m)\u001b[0m\u001b[0;34m\u001b[0m\u001b[0;34m\u001b[0m\u001b[0m\n\u001b[1;32m      3\u001b[0m \u001b[0mdf_com2\u001b[0m\u001b[0;34m[\u001b[0m\u001b[0;34m'Year'\u001b[0m\u001b[0;34m]\u001b[0m\u001b[0;34m=\u001b[0m\u001b[0mdf_com2\u001b[0m\u001b[0;34m[\u001b[0m\u001b[0;34m'Year'\u001b[0m\u001b[0;34m]\u001b[0m\u001b[0;34m.\u001b[0m\u001b[0mapply\u001b[0m\u001b[0;34m(\u001b[0m\u001b[0mtoint\u001b[0m\u001b[0;34m)\u001b[0m\u001b[0;34m\u001b[0m\u001b[0;34m\u001b[0m\u001b[0m\n",
            "\u001b[0;32m/usr/local/lib/python3.7/dist-packages/pandas/core/frame.py\u001b[0m in \u001b[0;36mgroupby\u001b[0;34m(self, by, axis, level, as_index, sort, group_keys, squeeze, observed, dropna)\u001b[0m\n\u001b[1;32m   6523\u001b[0m             \u001b[0msqueeze\u001b[0m\u001b[0;34m=\u001b[0m\u001b[0msqueeze\u001b[0m\u001b[0;34m,\u001b[0m\u001b[0;34m\u001b[0m\u001b[0;34m\u001b[0m\u001b[0m\n\u001b[1;32m   6524\u001b[0m             \u001b[0mobserved\u001b[0m\u001b[0;34m=\u001b[0m\u001b[0mobserved\u001b[0m\u001b[0;34m,\u001b[0m\u001b[0;34m\u001b[0m\u001b[0;34m\u001b[0m\u001b[0m\n\u001b[0;32m-> 6525\u001b[0;31m             \u001b[0mdropna\u001b[0m\u001b[0;34m=\u001b[0m\u001b[0mdropna\u001b[0m\u001b[0;34m,\u001b[0m\u001b[0;34m\u001b[0m\u001b[0;34m\u001b[0m\u001b[0m\n\u001b[0m\u001b[1;32m   6526\u001b[0m         )\n\u001b[1;32m   6527\u001b[0m \u001b[0;34m\u001b[0m\u001b[0m\n",
            "\u001b[0;32m/usr/local/lib/python3.7/dist-packages/pandas/core/groupby/groupby.py\u001b[0m in \u001b[0;36m__init__\u001b[0;34m(self, obj, keys, axis, level, grouper, exclusions, selection, as_index, sort, group_keys, squeeze, observed, mutated, dropna)\u001b[0m\n\u001b[1;32m    531\u001b[0m                 \u001b[0mobserved\u001b[0m\u001b[0;34m=\u001b[0m\u001b[0mobserved\u001b[0m\u001b[0;34m,\u001b[0m\u001b[0;34m\u001b[0m\u001b[0;34m\u001b[0m\u001b[0m\n\u001b[1;32m    532\u001b[0m                 \u001b[0mmutated\u001b[0m\u001b[0;34m=\u001b[0m\u001b[0mself\u001b[0m\u001b[0;34m.\u001b[0m\u001b[0mmutated\u001b[0m\u001b[0;34m,\u001b[0m\u001b[0;34m\u001b[0m\u001b[0;34m\u001b[0m\u001b[0m\n\u001b[0;32m--> 533\u001b[0;31m                 \u001b[0mdropna\u001b[0m\u001b[0;34m=\u001b[0m\u001b[0mself\u001b[0m\u001b[0;34m.\u001b[0m\u001b[0mdropna\u001b[0m\u001b[0;34m,\u001b[0m\u001b[0;34m\u001b[0m\u001b[0;34m\u001b[0m\u001b[0m\n\u001b[0m\u001b[1;32m    534\u001b[0m             )\n\u001b[1;32m    535\u001b[0m \u001b[0;34m\u001b[0m\u001b[0m\n",
            "\u001b[0;32m/usr/local/lib/python3.7/dist-packages/pandas/core/groupby/grouper.py\u001b[0m in \u001b[0;36mget_grouper\u001b[0;34m(obj, key, axis, level, sort, observed, mutated, validate, dropna)\u001b[0m\n\u001b[1;32m    784\u001b[0m                 \u001b[0min_axis\u001b[0m\u001b[0;34m,\u001b[0m \u001b[0mname\u001b[0m\u001b[0;34m,\u001b[0m \u001b[0mlevel\u001b[0m\u001b[0;34m,\u001b[0m \u001b[0mgpr\u001b[0m \u001b[0;34m=\u001b[0m \u001b[0;32mFalse\u001b[0m\u001b[0;34m,\u001b[0m \u001b[0;32mNone\u001b[0m\u001b[0;34m,\u001b[0m \u001b[0mgpr\u001b[0m\u001b[0;34m,\u001b[0m \u001b[0;32mNone\u001b[0m\u001b[0;34m\u001b[0m\u001b[0;34m\u001b[0m\u001b[0m\n\u001b[1;32m    785\u001b[0m             \u001b[0;32melse\u001b[0m\u001b[0;34m:\u001b[0m\u001b[0;34m\u001b[0m\u001b[0;34m\u001b[0m\u001b[0m\n\u001b[0;32m--> 786\u001b[0;31m                 \u001b[0;32mraise\u001b[0m \u001b[0mKeyError\u001b[0m\u001b[0;34m(\u001b[0m\u001b[0mgpr\u001b[0m\u001b[0;34m)\u001b[0m\u001b[0;34m\u001b[0m\u001b[0;34m\u001b[0m\u001b[0m\n\u001b[0m\u001b[1;32m    787\u001b[0m         \u001b[0;32melif\u001b[0m \u001b[0misinstance\u001b[0m\u001b[0;34m(\u001b[0m\u001b[0mgpr\u001b[0m\u001b[0;34m,\u001b[0m \u001b[0mGrouper\u001b[0m\u001b[0;34m)\u001b[0m \u001b[0;32mand\u001b[0m \u001b[0mgpr\u001b[0m\u001b[0;34m.\u001b[0m\u001b[0mkey\u001b[0m \u001b[0;32mis\u001b[0m \u001b[0;32mnot\u001b[0m \u001b[0;32mNone\u001b[0m\u001b[0;34m:\u001b[0m\u001b[0;34m\u001b[0m\u001b[0;34m\u001b[0m\u001b[0m\n\u001b[1;32m    788\u001b[0m             \u001b[0;31m# Add key to exclusions\u001b[0m\u001b[0;34m\u001b[0m\u001b[0;34m\u001b[0m\u001b[0;34m\u001b[0m\u001b[0m\n",
            "\u001b[0;31mKeyError\u001b[0m: 'Use'"
          ]
        }
      ]
    },
    {
      "cell_type": "code",
      "metadata": {
        "id": "y1O-EIhvThA9"
      },
      "source": [
        "genre_com2=pd.crosstab(df_com2['Year'],df_com2['Use'],values=df_com2['t_Sales'],aggfunc='sum').fillna(0)\n",
        "genre_com2['sum']=genre_com2.sum(axis=1) #총액\n",
        "\n",
        "#총액/본인값\n",
        "for i in genre_com2.columns:\n",
        "  genre_com2[i]=genre_com2[i]/genre_com2['sum']\n",
        "genre_com2=genre_com2.drop('sum',axis=1)\n",
        "genre_com2=genre_com2.T\n",
        "genre_com2.reset_index(inplace=True)\n",
        "\n",
        "#2017과 2020은 데이터가 매우 적어 삭제\n",
        "genre_com2=genre_com2.drop(2017,axis=1)\n",
        "genre_com2=genre_com2.drop(2020,axis=1)\n",
        "\n",
        "genre_com2=genre_com2.melt(id_vars='Use')\n",
        "genre_com2.head(30)"
      ],
      "execution_count": null,
      "outputs": []
    },
    {
      "cell_type": "code",
      "metadata": {
        "id": "R1ExrJTHT7Fi"
      },
      "source": [
        "plt.figure(figsize=(15,6))\n",
        "sns.lineplot(x='Year',y='value',hue='Use',data=genre_com2,palette='Paired', lw=3)"
      ],
      "execution_count": null,
      "outputs": []
    },
    {
      "cell_type": "markdown",
      "metadata": {
        "id": "YWfhQQA2VTZo"
      },
      "source": [
        "\n",
        "\n",
        "*   1980년도 후반까지는 가정용 플랫폼이 시장 전체를 차지하였다.\n",
        "*   1980년도 후반 휴대용 플랫폼이 등장하면서 잠시 시장 전체를 차지하였지만 90년대에 들어서면서 다시 가정용 플랫폼이 우위를 차지했다.\n",
        "*   2005년도쯤 닌텐도DS 등의 휴대용 플랫폼이 탄생하면서 휴대용 플랫폼의 인기가 늘었지만 최근 다시 가정용 플랫폼의 점유율이 계속해서 늘어나고있다.\n"
      ]
    },
    {
      "cell_type": "markdown",
      "metadata": {
        "id": "DgBl0qrf8Qmx"
      },
      "source": [
        "#**3.매출이 높은 게임에 대한 분석**"
      ]
    },
    {
      "cell_type": "markdown",
      "metadata": {
        "id": "3L1W9yY-8Tb7"
      },
      "source": [
        "## **3-1.최고매출 게임 분석**\n",
        "2010년 이후 최고 매출을 기록한 게임 15개에 대해 분석해보자 대해 분석"
      ]
    },
    {
      "cell_type": "code",
      "metadata": {
        "id": "TYKqQ6VaCx7X",
        "colab": {
          "base_uri": "https://localhost:8080/",
          "height": 514
        },
        "outputId": "8753c71d-31a7-4cea-db78-61bbabc9aba9"
      },
      "source": [
        "df_best=df[(df['Year']>=2010)].sort_values(by='t_Sales',ascending=False)\n",
        "df_best=df_best[:15]\n",
        "df_best"
      ],
      "execution_count": null,
      "outputs": [
        {
          "output_type": "execute_result",
          "data": {
            "text/html": [
              "<div>\n",
              "<style scoped>\n",
              "    .dataframe tbody tr th:only-of-type {\n",
              "        vertical-align: middle;\n",
              "    }\n",
              "\n",
              "    .dataframe tbody tr th {\n",
              "        vertical-align: top;\n",
              "    }\n",
              "\n",
              "    .dataframe thead th {\n",
              "        text-align: right;\n",
              "    }\n",
              "</style>\n",
              "<table border=\"1\" class=\"dataframe\">\n",
              "  <thead>\n",
              "    <tr style=\"text-align: right;\">\n",
              "      <th></th>\n",
              "      <th>Name</th>\n",
              "      <th>Platform</th>\n",
              "      <th>Year</th>\n",
              "      <th>Genre</th>\n",
              "      <th>Publisher</th>\n",
              "      <th>NA_Sales</th>\n",
              "      <th>EU_Sales</th>\n",
              "      <th>JP_Sales</th>\n",
              "      <th>Other_Sales</th>\n",
              "      <th>t_Sales</th>\n",
              "      <th>P_Company</th>\n",
              "    </tr>\n",
              "  </thead>\n",
              "  <tbody>\n",
              "    <tr>\n",
              "      <th>4343</th>\n",
              "      <td>Kinect Adventures!</td>\n",
              "      <td>X360</td>\n",
              "      <td>2010.0</td>\n",
              "      <td>Misc</td>\n",
              "      <td>Microsoft Game Studios</td>\n",
              "      <td>14.97</td>\n",
              "      <td>4.94</td>\n",
              "      <td>0.24</td>\n",
              "      <td>1.67</td>\n",
              "      <td>21.82</td>\n",
              "      <td>Microsoft</td>\n",
              "    </tr>\n",
              "    <tr>\n",
              "      <th>3483</th>\n",
              "      <td>Grand Theft Auto V</td>\n",
              "      <td>PS3</td>\n",
              "      <td>2013.0</td>\n",
              "      <td>Action</td>\n",
              "      <td>Take-Two Interactive</td>\n",
              "      <td>7.01</td>\n",
              "      <td>9.27</td>\n",
              "      <td>0.97</td>\n",
              "      <td>4.14</td>\n",
              "      <td>21.39</td>\n",
              "      <td>Sony</td>\n",
              "    </tr>\n",
              "    <tr>\n",
              "      <th>10913</th>\n",
              "      <td>Grand Theft Auto V</td>\n",
              "      <td>X360</td>\n",
              "      <td>2013.0</td>\n",
              "      <td>Action</td>\n",
              "      <td>Take-Two Interactive</td>\n",
              "      <td>9.63</td>\n",
              "      <td>5.31</td>\n",
              "      <td>0.06</td>\n",
              "      <td>1.38</td>\n",
              "      <td>16.38</td>\n",
              "      <td>Microsoft</td>\n",
              "    </tr>\n",
              "    <tr>\n",
              "      <th>10621</th>\n",
              "      <td>Pokemon Black/Pokemon White</td>\n",
              "      <td>DS</td>\n",
              "      <td>2010.0</td>\n",
              "      <td>Role-Playing</td>\n",
              "      <td>Nintendo</td>\n",
              "      <td>5.57</td>\n",
              "      <td>3.28</td>\n",
              "      <td>5.65</td>\n",
              "      <td>0.82</td>\n",
              "      <td>15.32</td>\n",
              "      <td>Nintendo</td>\n",
              "    </tr>\n",
              "    <tr>\n",
              "      <th>2809</th>\n",
              "      <td>Call of Duty: Modern Warfare 3</td>\n",
              "      <td>X360</td>\n",
              "      <td>2011.0</td>\n",
              "      <td>Shooter</td>\n",
              "      <td>Activision</td>\n",
              "      <td>9.03</td>\n",
              "      <td>4.28</td>\n",
              "      <td>0.13</td>\n",
              "      <td>1.32</td>\n",
              "      <td>14.76</td>\n",
              "      <td>Microsoft</td>\n",
              "    </tr>\n",
              "    <tr>\n",
              "      <th>6248</th>\n",
              "      <td>Call of Duty: Black Ops</td>\n",
              "      <td>X360</td>\n",
              "      <td>2010.0</td>\n",
              "      <td>Shooter</td>\n",
              "      <td>Activision</td>\n",
              "      <td>9.67</td>\n",
              "      <td>3.73</td>\n",
              "      <td>0.11</td>\n",
              "      <td>1.13</td>\n",
              "      <td>14.64</td>\n",
              "      <td>Microsoft</td>\n",
              "    </tr>\n",
              "    <tr>\n",
              "      <th>1971</th>\n",
              "      <td>Pokemon X/Pokemon Y</td>\n",
              "      <td>3DS</td>\n",
              "      <td>2013.0</td>\n",
              "      <td>NaN</td>\n",
              "      <td>Nintendo</td>\n",
              "      <td>5.17</td>\n",
              "      <td>4.05</td>\n",
              "      <td>4.34</td>\n",
              "      <td>0.79</td>\n",
              "      <td>14.35</td>\n",
              "      <td>Nintendo</td>\n",
              "    </tr>\n",
              "    <tr>\n",
              "      <th>9070</th>\n",
              "      <td>Call of Duty: Black Ops 3</td>\n",
              "      <td>PS4</td>\n",
              "      <td>2015.0</td>\n",
              "      <td>Shooter</td>\n",
              "      <td>Activision</td>\n",
              "      <td>5.77</td>\n",
              "      <td>5.81</td>\n",
              "      <td>0.35</td>\n",
              "      <td>2.31</td>\n",
              "      <td>14.24</td>\n",
              "      <td>Sony</td>\n",
              "    </tr>\n",
              "    <tr>\n",
              "      <th>4240</th>\n",
              "      <td>Call of Duty: Black Ops II</td>\n",
              "      <td>PS3</td>\n",
              "      <td>2012.0</td>\n",
              "      <td>Shooter</td>\n",
              "      <td>Activision</td>\n",
              "      <td>4.99</td>\n",
              "      <td>5.88</td>\n",
              "      <td>0.65</td>\n",
              "      <td>2.52</td>\n",
              "      <td>14.04</td>\n",
              "      <td>Sony</td>\n",
              "    </tr>\n",
              "    <tr>\n",
              "      <th>6393</th>\n",
              "      <td>Call of Duty: Black Ops II</td>\n",
              "      <td>X360</td>\n",
              "      <td>2012.0</td>\n",
              "      <td>Shooter</td>\n",
              "      <td>Activision</td>\n",
              "      <td>8.25</td>\n",
              "      <td>4.30</td>\n",
              "      <td>0.07</td>\n",
              "      <td>1.12</td>\n",
              "      <td>13.74</td>\n",
              "      <td>Microsoft</td>\n",
              "    </tr>\n",
              "    <tr>\n",
              "      <th>14120</th>\n",
              "      <td>Call of Duty: Modern Warfare 3</td>\n",
              "      <td>PS3</td>\n",
              "      <td>2011.0</td>\n",
              "      <td>Shooter</td>\n",
              "      <td>Activision</td>\n",
              "      <td>5.54</td>\n",
              "      <td>5.82</td>\n",
              "      <td>0.49</td>\n",
              "      <td>1.62</td>\n",
              "      <td>13.47</td>\n",
              "      <td>Sony</td>\n",
              "    </tr>\n",
              "    <tr>\n",
              "      <th>9924</th>\n",
              "      <td>Call of Duty: Black Ops</td>\n",
              "      <td>PS3</td>\n",
              "      <td>2010.0</td>\n",
              "      <td>Shooter</td>\n",
              "      <td>Activision</td>\n",
              "      <td>5.98</td>\n",
              "      <td>4.44</td>\n",
              "      <td>0.48</td>\n",
              "      <td>1.83</td>\n",
              "      <td>12.73</td>\n",
              "      <td>Sony</td>\n",
              "    </tr>\n",
              "    <tr>\n",
              "      <th>11123</th>\n",
              "      <td>Mario Kart 7</td>\n",
              "      <td>3DS</td>\n",
              "      <td>2011.0</td>\n",
              "      <td>Racing</td>\n",
              "      <td>Nintendo</td>\n",
              "      <td>4.74</td>\n",
              "      <td>3.91</td>\n",
              "      <td>2.67</td>\n",
              "      <td>0.89</td>\n",
              "      <td>12.21</td>\n",
              "      <td>Nintendo</td>\n",
              "    </tr>\n",
              "    <tr>\n",
              "      <th>2008</th>\n",
              "      <td>Grand Theft Auto V</td>\n",
              "      <td>PS4</td>\n",
              "      <td>2014.0</td>\n",
              "      <td>Action</td>\n",
              "      <td>Take-Two Interactive</td>\n",
              "      <td>3.80</td>\n",
              "      <td>5.81</td>\n",
              "      <td>0.36</td>\n",
              "      <td>2.02</td>\n",
              "      <td>11.99</td>\n",
              "      <td>Sony</td>\n",
              "    </tr>\n",
              "    <tr>\n",
              "      <th>4251</th>\n",
              "      <td>Pokemon Omega Ruby/Pokemon Alpha Sapphire</td>\n",
              "      <td>3DS</td>\n",
              "      <td>2014.0</td>\n",
              "      <td>Role-Playing</td>\n",
              "      <td>Nintendo</td>\n",
              "      <td>4.23</td>\n",
              "      <td>3.37</td>\n",
              "      <td>3.08</td>\n",
              "      <td>0.65</td>\n",
              "      <td>11.33</td>\n",
              "      <td>Nintendo</td>\n",
              "    </tr>\n",
              "  </tbody>\n",
              "</table>\n",
              "</div>"
            ],
            "text/plain": [
              "                                            Name Platform  ...  t_Sales  P_Company\n",
              "4343                          Kinect Adventures!     X360  ...    21.82  Microsoft\n",
              "3483                          Grand Theft Auto V      PS3  ...    21.39       Sony\n",
              "10913                         Grand Theft Auto V     X360  ...    16.38  Microsoft\n",
              "10621                Pokemon Black/Pokemon White       DS  ...    15.32   Nintendo\n",
              "2809              Call of Duty: Modern Warfare 3     X360  ...    14.76  Microsoft\n",
              "6248                     Call of Duty: Black Ops     X360  ...    14.64  Microsoft\n",
              "1971                         Pokemon X/Pokemon Y      3DS  ...    14.35   Nintendo\n",
              "9070                   Call of Duty: Black Ops 3      PS4  ...    14.24       Sony\n",
              "4240                  Call of Duty: Black Ops II      PS3  ...    14.04       Sony\n",
              "6393                  Call of Duty: Black Ops II     X360  ...    13.74  Microsoft\n",
              "14120             Call of Duty: Modern Warfare 3      PS3  ...    13.47       Sony\n",
              "9924                     Call of Duty: Black Ops      PS3  ...    12.73       Sony\n",
              "11123                               Mario Kart 7      3DS  ...    12.21   Nintendo\n",
              "2008                          Grand Theft Auto V      PS4  ...    11.99       Sony\n",
              "4251   Pokemon Omega Ruby/Pokemon Alpha Sapphire      3DS  ...    11.33   Nintendo\n",
              "\n",
              "[15 rows x 11 columns]"
            ]
          },
          "metadata": {
            "tags": []
          },
          "execution_count": 56
        }
      ]
    },
    {
      "cell_type": "code",
      "metadata": {
        "colab": {
          "base_uri": "https://localhost:8080/",
          "height": 333
        },
        "id": "jmxcb4N8FMbZ",
        "outputId": "44d6a3e8-45ff-41a0-e730-bc817b34f4ef"
      },
      "source": [
        "genre=df_best.groupby(['Genre'])['Genre','t_Sales'].sum()\n",
        "genre.reset_index(inplace=True)\n",
        "plt.figure(figsize=(10,4))\n",
        "sns.set_style(\"darkgrid\")\n",
        "sns.despine(left=True, bottom=True) #테두리 제거\n",
        "sns.barplot(data=genre,x='Genre',y='t_Sales', palette='colorblind')\n"
      ],
      "execution_count": null,
      "outputs": [
        {
          "output_type": "stream",
          "text": [
            "/usr/local/lib/python3.7/dist-packages/ipykernel_launcher.py:1: FutureWarning: Indexing with multiple keys (implicitly converted to a tuple of keys) will be deprecated, use a list instead.\n",
            "  \"\"\"Entry point for launching an IPython kernel.\n"
          ],
          "name": "stderr"
        },
        {
          "output_type": "execute_result",
          "data": {
            "text/plain": [
              "<matplotlib.axes._subplots.AxesSubplot at 0x7f0c3329be90>"
            ]
          },
          "metadata": {
            "tags": []
          },
          "execution_count": 55
        },
        {
          "output_type": "display_data",
          "data": {
            "image/png": "[encoded data removed]",
            "text/plain": [
              "<Figure size 720x288 with 1 Axes>"
            ]
          },
          "metadata": {
            "tags": []
          }
        }
      ]
    },
    {
      "cell_type": "markdown",
      "metadata": {
        "id": "uhVpRpnpKzxY"
      },
      "source": [
        "분석 결과 장르로는 Shooter,Action 순으로 판매량이 높은것을 알 수 있다."
      ]
    },
    {
      "cell_type": "code",
      "metadata": {
        "id": "KEpP1mj-LRBP"
      },
      "source": [
        "plat=df_best.groupby(['Platform'])['Platform','t_Sales'].sum()\n",
        "plat.reset_index(inplace=True)\n",
        "plt.figure(figsize=(10,4))\n",
        "sns.set_style(\"darkgrid\")\n",
        "sns.despine(left=True, bottom=True) #테두리 제거\n",
        "sns.barplot(data=plat,x='Platform',y='t_Sales', palette='colorblind')"
      ],
      "execution_count": null,
      "outputs": []
    },
    {
      "cell_type": "markdown",
      "metadata": {
        "id": "v1TSJ2r_LxGL"
      },
      "source": [
        "플랫폼으로는 X360,PS3,3DS,PS4 순으로 판매량이 높은 것을 알 수 있다"
      ]
    },
    {
      "cell_type": "markdown",
      "metadata": {
        "id": "01W76bQqM-Ku"
      },
      "source": [
        "#**4.성공 확률 분석**"
      ]
    },
    {
      "cell_type": "markdown",
      "metadata": {
        "id": "sl40J4biNXdu"
      },
      "source": [
        "최근 10년간 최고매출 게임을 분석한 결과\n",
        "\n",
        "\n",
        "\n",
        "```\n",
        "장르: Shooter,Action\n",
        "플랫폼: X360,PS3,3DS,PS4\n",
        "```\n",
        "가 매출이 높다는 것을 알 수 있었다.\n",
        "\n",
        "이를 통해 어떤 게임들이 최고매출을 기록했는지는 알 수 있었지만, 각 항목별로 얼마나 많은 게임이 나왔고 그 중 몇프로가 성공한것인지는 알 수 없다.\n",
        "\n",
        "하단에서는 베이지안 이론을 통해 각 장르,플랫폼별로 사용시 성공 확률을 구해본다.\n",
        "\n",
        "\n",
        "\n"
      ]
    },
    {
      "cell_type": "code",
      "metadata": {
        "id": "QtulbQE3NW_d"
      },
      "source": [
        "data2010=df[(df['Year']>=2010)].sort_values(by='t_Sales',ascending=False)\n",
        "sns.scatterplot(x = 'Year', y = 't_Sales', data = data2010);"
      ],
      "execution_count": null,
      "outputs": []
    },
    {
      "cell_type": "markdown",
      "metadata": {
        "id": "I4jMZqNEQBEf"
      },
      "source": [
        "매출이 1M(100만장)을 기록하는 경우 성공이라 가정하자."
      ]
    },
    {
      "cell_type": "code",
      "metadata": {
        "id": "GGQqLGREef_2"
      },
      "source": [
        ""
      ],
      "execution_count": null,
      "outputs": []
    },
    {
      "cell_type": "markdown",
      "metadata": {
        "id": "1tCxukOJNNfi"
      },
      "source": [
        "## **4-1.장르별 성공확률 분석**\n",
        "\n",
        ">최근 10년간 Shooter, Action 장르에 대한 성공확률을 분석해보자.\n",
        "\n"
      ]
    },
    {
      "cell_type": "code",
      "metadata": {
        "id": "0j0uFJmHQJkD"
      },
      "source": [
        "df2010=df[(df['Year']>=2010)]\n",
        "df411=df2010[df2010['Genre'].isin([ 'Shooter'])]\n",
        "df412=df411[df411['t_Sales']>=1]\n",
        "print('Shooter 장르의 성공 확률: ',len(df412)/len(df411))"
      ],
      "execution_count": null,
      "outputs": []
    },
    {
      "cell_type": "code",
      "metadata": {
        "id": "hryiZE_QS4fL"
      },
      "source": [
        "df413=df2010[df2010['Genre'].isin([ 'Action'])]\n",
        "df414=df413[df413['t_Sales']>=1]\n",
        "print('Action 장르의 성공 확률: ',len(df414)/len(df413))"
      ],
      "execution_count": null,
      "outputs": []
    },
    {
      "cell_type": "markdown",
      "metadata": {
        "id": "0tdOZDBWTTj_"
      },
      "source": [
        "Shooter 장르가 Action 장르보다 성공 확률이 2배 이상 높다. 따라서 Shooter 장르를 채택한다."
      ]
    },
    {
      "cell_type": "markdown",
      "metadata": {
        "id": "4SZtLyAxTdmp"
      },
      "source": [
        "## **4-2.플랫폼별 성공확률 분석**\n",
        "\n",
        ">최근 10년간 Shooter장르에 대한 플랫폼 X360,PS3,3DS,PS4의 성공확률을 분석해보자.\n",
        "\n",
        "PS3와 PS4은 같은 회사이므로 같이 묶는다\n",
        "\n"
      ]
    },
    {
      "cell_type": "code",
      "metadata": {
        "id": "DoraNUoeTk5W"
      },
      "source": [
        "df421=df413[df413['Platform'].isin([ 'PS3','PS4'])]\n",
        "df422=df421[df421['t_Sales']>=1]\n",
        "print('Shooter 장르애 대한 PS3,PS4 플랫폼의 성공 확률: ',len(df422)/len(df421))"
      ],
      "execution_count": null,
      "outputs": []
    },
    {
      "cell_type": "code",
      "metadata": {
        "id": "FsPYhAi_UNBD"
      },
      "source": [
        "df423=df413[df413['Platform'].isin([ '3DS'])]\n",
        "df424=df423[df423['t_Sales']>=1]\n",
        "print('Shooter 장르애 대한 3DS 플랫폼의 성공 확률: ',len(df424)/len(df423))"
      ],
      "execution_count": null,
      "outputs": []
    },
    {
      "cell_type": "code",
      "metadata": {
        "id": "DmR0vxJEUg-D"
      },
      "source": [
        "df425=df413[df413['Platform'].isin([ 'X360'])]\n",
        "df426=df425[df425['t_Sales']>=1]\n",
        "print('Shooter 장르애 대한 X360 플랫폼의 성공 확률: ',len(df426)/len(df425))"
      ],
      "execution_count": null,
      "outputs": []
    },
    {
      "cell_type": "markdown",
      "metadata": {
        "id": "NBii5QNBUtK3"
      },
      "source": [
        " Shooter장르에 대한 플랫폼의 성공 확률은 X360, PS3+PS4, 3DS 순으로 높다"
      ]
    },
    {
      "cell_type": "markdown",
      "metadata": {
        "id": "Uv0dChExVEPR"
      },
      "source": [
        "## **4-3.Publisher별 성공확률 분석**\n",
        "\n",
        ">최근 10년간 Shooter장르이고 플랫폼 X360,PS3,PS4인 게임에 대한 Publisher별 성공확률을 분석해보자.\n",
        "\n"
      ]
    },
    {
      "cell_type": "code",
      "metadata": {
        "id": "NNXpEGXZZ0va"
      },
      "source": [
        "plat2=df425.groupby(['Publisher'])['Publisher','t_Sales'].sum()\n",
        "plat2.sort_values(by='t_Sales',ascending=False).head(2)"
      ],
      "execution_count": null,
      "outputs": []
    },
    {
      "cell_type": "markdown",
      "metadata": {
        "id": "vdhrxr6kaSNX"
      },
      "source": [
        "Shooter장르이고 플랫폼 X360인 경우 'Take-Two Interactive','Ubisoft'순으로 판매량이 높다.\n",
        "\n",
        "이중 성공확률이 가장 높은 케이스를 찾아보자."
      ]
    },
    {
      "cell_type": "code",
      "metadata": {
        "id": "6g36QJI2V8xb"
      },
      "source": [
        "df431=df425[df425['Publisher'].isin([ 'Ubisoft'])]\n",
        "df432=df431[df431['t_Sales']>=1]\n",
        "print('Shooter장르이고 X360플랫폼인 Publisher:Ubisoft의 성공 확률: ',len(df432)/len(df431))"
      ],
      "execution_count": null,
      "outputs": []
    },
    {
      "cell_type": "code",
      "metadata": {
        "id": "K_zulrkzWC6O"
      },
      "source": [
        "df435=df425[df425['Publisher'].isin([ 'Take-Two Interactive'])]\n",
        "df436=df435[df435['t_Sales']>=1]\n",
        "print('Shooter장르이고 X360플랫폼인 Publisher:Take-Two Interactive의 성공 확률: ',len(df436)/len(df435))"
      ],
      "execution_count": null,
      "outputs": []
    },
    {
      "cell_type": "code",
      "metadata": {
        "id": "s6e_VDfwbVD2"
      },
      "source": [
        "plat2=df421.groupby(['Publisher'])['Publisher','t_Sales'].sum()\n",
        "plat2.sort_values(by='t_Sales',ascending=False).head(2)"
      ],
      "execution_count": null,
      "outputs": []
    },
    {
      "cell_type": "markdown",
      "metadata": {
        "id": "SkKEhPmDbdxG"
      },
      "source": [
        "Shooter장르이고 플랫폼 PS3,PS4인 경우 'Take-Two Interactive','Ubisoft'순으로 판매량이 높다.\n",
        "\n",
        "이중 성공확률이 가장 높은 케이스를 찾아보자."
      ]
    },
    {
      "cell_type": "code",
      "metadata": {
        "id": "SYmQMC51bdCi"
      },
      "source": [
        "df437=df421[df421['Publisher'].isin([ 'Ubisoft'])]\n",
        "df438=df437[df437['t_Sales']>=1]\n",
        "print('Shooter장르이고 PS3,PS4플랫폼인 Publisher:Ubisoft의  성공 확률: ',len(df438)/len(df437))"
      ],
      "execution_count": null,
      "outputs": []
    },
    {
      "cell_type": "code",
      "metadata": {
        "id": "_1CpP-pkb3S-"
      },
      "source": [
        "df439=df421[df421['Publisher'].isin([ 'Take-Two Interactive'])]\n",
        "df430=df439[df439['t_Sales']>=1]\n",
        "print('Shooter장르이고 PS3,PS4플랫폼인 Publisher:Take-Two Interactive의  성공 확률: ',len(df430)/len(df439))"
      ],
      "execution_count": null,
      "outputs": []
    },
    {
      "cell_type": "markdown",
      "metadata": {
        "id": "U9_4D3SpcKHx"
      },
      "source": [
        "이중 성공확률이 가장 높은 케이스는\n",
        "\n",
        "*   Shooter장르이고 X360플랫폼인 Publisher:Take-Two Interactive\n",
        "*   Shooter장르이고 PS3,PS4플랫폼인 Publisher:Take-Two Interactive\n",
        "\n",
        "이다."
      ]
    },
    {
      "cell_type": "markdown",
      "metadata": {
        "id": "FpJe56qzcbj5"
      },
      "source": [
        "#**5.결론**"
      ]
    },
    {
      "cell_type": "markdown",
      "metadata": {
        "id": "EXD7ufHuceeL"
      },
      "source": [
        "최근 10년간 100만장 이상 판매한 게임의 조합을 살펴본 결과,\n",
        "\n",
        "\n",
        "\n",
        "*    Publisher:Take-Two Interactive\n",
        "*    Platform: X360(마이크로소프트,Xbox)\n",
        "*    Genre: Shooter\n",
        "\n",
        "인 케이스가 가장 높은 확률로 성공할 수 있다는 결론이 나왔다.\n",
        "\n",
        "만약 해당 케이스가 불가능할경우 2안으로는\n",
        "\n",
        "*    Publisher:Take-Two Interactive\n",
        "*    Platform:  PS3,PS4(소니,플레이스테이선)\n",
        "*    Genre: Shooter\n",
        "\n",
        "이 있다.\n",
        "\n"
      ]
    }
  ]
}